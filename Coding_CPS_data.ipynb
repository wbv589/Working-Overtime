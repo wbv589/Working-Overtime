{
 "cells": [
  {
   "cell_type": "markdown",
   "metadata": {},
   "source": [
    "# Seminar: Empirical Research on the COVID-19 Economic Crisis\n",
    "## Effects of Social Distancing Policy on Labor Market Outcomes"
   ]
  },
  {
   "cell_type": "code",
   "execution_count": 2,
   "metadata": {},
   "outputs": [],
   "source": [
    "# Importing basic packages\n",
    "import pandas as pd\n",
    "\n",
    "# Importing packages for plots\n",
    "import matplotlib.pyplot as plt\n",
    "import seaborn as sns\n",
    "%matplotlib inline \n",
    "from matplotlib.ticker import FormatStrFormatter"
   ]
  },
  {
   "cell_type": "markdown",
   "metadata": {},
   "source": [
    "## Read dat and csv files, selecting variables and concatenate pr. year\n",
    "Reading data for the period: jan 2017 - apr 2020\n",
    "\n",
    "1. read data for 2017 and 2019 using dat files \n",
    "2. read data for 2020 (jan-april) using csv files\n",
    "\n",
    "Note that GESTFIPS is from "
   ]
  },
  {
   "cell_type": "markdown",
   "metadata": {},
   "source": [
    "# 2017"
   ]
  },
  {
   "cell_type": "code",
   "execution_count": 3,
   "metadata": {},
   "outputs": [
    {
     "ename": "FileNotFoundError",
     "evalue": "[Errno 2] No such file or directory: 'jan17pub.dat'",
     "output_type": "error",
     "traceback": [
      "\u001b[0;31m---------------------------------------------------------------------------\u001b[0m",
      "\u001b[0;31mFileNotFoundError\u001b[0m                         Traceback (most recent call last)",
      "\u001b[0;32m<ipython-input-3-7e03c9eae790>\u001b[0m in \u001b[0;36m<module>\u001b[0;34m\u001b[0m\n\u001b[1;32m      9\u001b[0m \u001b[0;34m\u001b[0m\u001b[0m\n\u001b[1;32m     10\u001b[0m \u001b[0;31m# Get the CPS data for all months\u001b[0m\u001b[0;34m\u001b[0m\u001b[0;34m\u001b[0m\u001b[0;34m\u001b[0m\u001b[0m\n\u001b[0;32m---> 11\u001b[0;31m \u001b[0mlist_of_dfs17\u001b[0m \u001b[0;34m=\u001b[0m \u001b[0;34m[\u001b[0m\u001b[0mread_data17\u001b[0m\u001b[0;34m(\u001b[0m\u001b[0mi\u001b[0m\u001b[0;34m)\u001b[0m \u001b[0;32mfor\u001b[0m \u001b[0mi\u001b[0m \u001b[0;32min\u001b[0m \u001b[0mmonths_list\u001b[0m\u001b[0;34m]\u001b[0m\u001b[0;34m\u001b[0m\u001b[0;34m\u001b[0m\u001b[0m\n\u001b[0m\u001b[1;32m     12\u001b[0m \u001b[0;34m\u001b[0m\u001b[0m\n\u001b[1;32m     13\u001b[0m \u001b[0;31m# List of month-specific dataframes\u001b[0m\u001b[0;34m\u001b[0m\u001b[0;34m\u001b[0m\u001b[0;34m\u001b[0m\u001b[0m\n",
      "\u001b[0;32m<ipython-input-3-7e03c9eae790>\u001b[0m in \u001b[0;36m<listcomp>\u001b[0;34m(.0)\u001b[0m\n\u001b[1;32m      9\u001b[0m \u001b[0;34m\u001b[0m\u001b[0m\n\u001b[1;32m     10\u001b[0m \u001b[0;31m# Get the CPS data for all months\u001b[0m\u001b[0;34m\u001b[0m\u001b[0;34m\u001b[0m\u001b[0;34m\u001b[0m\u001b[0m\n\u001b[0;32m---> 11\u001b[0;31m \u001b[0mlist_of_dfs17\u001b[0m \u001b[0;34m=\u001b[0m \u001b[0;34m[\u001b[0m\u001b[0mread_data17\u001b[0m\u001b[0;34m(\u001b[0m\u001b[0mi\u001b[0m\u001b[0;34m)\u001b[0m \u001b[0;32mfor\u001b[0m \u001b[0mi\u001b[0m \u001b[0;32min\u001b[0m \u001b[0mmonths_list\u001b[0m\u001b[0;34m]\u001b[0m\u001b[0;34m\u001b[0m\u001b[0;34m\u001b[0m\u001b[0m\n\u001b[0m\u001b[1;32m     12\u001b[0m \u001b[0;34m\u001b[0m\u001b[0m\n\u001b[1;32m     13\u001b[0m \u001b[0;31m# List of month-specific dataframes\u001b[0m\u001b[0;34m\u001b[0m\u001b[0;34m\u001b[0m\u001b[0;34m\u001b[0m\u001b[0m\n",
      "\u001b[0;32m<ipython-input-3-7e03c9eae790>\u001b[0m in \u001b[0;36mread_data17\u001b[0;34m(month)\u001b[0m\n\u001b[1;32m      2\u001b[0m \u001b[0;31m# Reading dat files from Current Population Survery (CPS)\u001b[0m\u001b[0;34m\u001b[0m\u001b[0;34m\u001b[0m\u001b[0;34m\u001b[0m\u001b[0m\n\u001b[1;32m      3\u001b[0m \u001b[0;32mdef\u001b[0m \u001b[0mread_data17\u001b[0m\u001b[0;34m(\u001b[0m\u001b[0mmonth\u001b[0m\u001b[0;34m)\u001b[0m\u001b[0;34m:\u001b[0m\u001b[0;34m\u001b[0m\u001b[0;34m\u001b[0m\u001b[0m\n\u001b[0;32m----> 4\u001b[0;31m     \u001b[0mdataframe\u001b[0m \u001b[0;34m=\u001b[0m \u001b[0mpd\u001b[0m\u001b[0;34m.\u001b[0m\u001b[0mread_csv\u001b[0m\u001b[0;34m(\u001b[0m\u001b[0;34mf'{month}17pub.dat'\u001b[0m\u001b[0;34m,\u001b[0m \u001b[0mheader\u001b[0m\u001b[0;34m=\u001b[0m\u001b[0;32mNone\u001b[0m\u001b[0;34m)\u001b[0m\u001b[0;34m\u001b[0m\u001b[0;34m\u001b[0m\u001b[0m\n\u001b[0m\u001b[1;32m      5\u001b[0m     \u001b[0;32mreturn\u001b[0m \u001b[0mdataframe\u001b[0m\u001b[0;34m\u001b[0m\u001b[0;34m\u001b[0m\u001b[0m\n\u001b[1;32m      6\u001b[0m \u001b[0;34m\u001b[0m\u001b[0m\n",
      "\u001b[0;32m/Applications/anaconda3/lib/python3.8/site-packages/pandas/io/parsers.py\u001b[0m in \u001b[0;36mread_csv\u001b[0;34m(filepath_or_buffer, sep, delimiter, header, names, index_col, usecols, squeeze, prefix, mangle_dupe_cols, dtype, engine, converters, true_values, false_values, skipinitialspace, skiprows, skipfooter, nrows, na_values, keep_default_na, na_filter, verbose, skip_blank_lines, parse_dates, infer_datetime_format, keep_date_col, date_parser, dayfirst, cache_dates, iterator, chunksize, compression, thousands, decimal, lineterminator, quotechar, quoting, doublequote, escapechar, comment, encoding, dialect, error_bad_lines, warn_bad_lines, delim_whitespace, low_memory, memory_map, float_precision, storage_options)\u001b[0m\n\u001b[1;32m    603\u001b[0m     \u001b[0mkwds\u001b[0m\u001b[0;34m.\u001b[0m\u001b[0mupdate\u001b[0m\u001b[0;34m(\u001b[0m\u001b[0mkwds_defaults\u001b[0m\u001b[0;34m)\u001b[0m\u001b[0;34m\u001b[0m\u001b[0;34m\u001b[0m\u001b[0m\n\u001b[1;32m    604\u001b[0m \u001b[0;34m\u001b[0m\u001b[0m\n\u001b[0;32m--> 605\u001b[0;31m     \u001b[0;32mreturn\u001b[0m \u001b[0m_read\u001b[0m\u001b[0;34m(\u001b[0m\u001b[0mfilepath_or_buffer\u001b[0m\u001b[0;34m,\u001b[0m \u001b[0mkwds\u001b[0m\u001b[0;34m)\u001b[0m\u001b[0;34m\u001b[0m\u001b[0;34m\u001b[0m\u001b[0m\n\u001b[0m\u001b[1;32m    606\u001b[0m \u001b[0;34m\u001b[0m\u001b[0m\n\u001b[1;32m    607\u001b[0m \u001b[0;34m\u001b[0m\u001b[0m\n",
      "\u001b[0;32m/Applications/anaconda3/lib/python3.8/site-packages/pandas/io/parsers.py\u001b[0m in \u001b[0;36m_read\u001b[0;34m(filepath_or_buffer, kwds)\u001b[0m\n\u001b[1;32m    455\u001b[0m \u001b[0;34m\u001b[0m\u001b[0m\n\u001b[1;32m    456\u001b[0m     \u001b[0;31m# Create the parser.\u001b[0m\u001b[0;34m\u001b[0m\u001b[0;34m\u001b[0m\u001b[0;34m\u001b[0m\u001b[0m\n\u001b[0;32m--> 457\u001b[0;31m     \u001b[0mparser\u001b[0m \u001b[0;34m=\u001b[0m \u001b[0mTextFileReader\u001b[0m\u001b[0;34m(\u001b[0m\u001b[0mfilepath_or_buffer\u001b[0m\u001b[0;34m,\u001b[0m \u001b[0;34m**\u001b[0m\u001b[0mkwds\u001b[0m\u001b[0;34m)\u001b[0m\u001b[0;34m\u001b[0m\u001b[0;34m\u001b[0m\u001b[0m\n\u001b[0m\u001b[1;32m    458\u001b[0m \u001b[0;34m\u001b[0m\u001b[0m\n\u001b[1;32m    459\u001b[0m     \u001b[0;32mif\u001b[0m \u001b[0mchunksize\u001b[0m \u001b[0;32mor\u001b[0m \u001b[0miterator\u001b[0m\u001b[0;34m:\u001b[0m\u001b[0;34m\u001b[0m\u001b[0;34m\u001b[0m\u001b[0m\n",
      "\u001b[0;32m/Applications/anaconda3/lib/python3.8/site-packages/pandas/io/parsers.py\u001b[0m in \u001b[0;36m__init__\u001b[0;34m(self, f, engine, **kwds)\u001b[0m\n\u001b[1;32m    812\u001b[0m             \u001b[0mself\u001b[0m\u001b[0;34m.\u001b[0m\u001b[0moptions\u001b[0m\u001b[0;34m[\u001b[0m\u001b[0;34m\"has_index_names\"\u001b[0m\u001b[0;34m]\u001b[0m \u001b[0;34m=\u001b[0m \u001b[0mkwds\u001b[0m\u001b[0;34m[\u001b[0m\u001b[0;34m\"has_index_names\"\u001b[0m\u001b[0;34m]\u001b[0m\u001b[0;34m\u001b[0m\u001b[0;34m\u001b[0m\u001b[0m\n\u001b[1;32m    813\u001b[0m \u001b[0;34m\u001b[0m\u001b[0m\n\u001b[0;32m--> 814\u001b[0;31m         \u001b[0mself\u001b[0m\u001b[0;34m.\u001b[0m\u001b[0m_engine\u001b[0m \u001b[0;34m=\u001b[0m \u001b[0mself\u001b[0m\u001b[0;34m.\u001b[0m\u001b[0m_make_engine\u001b[0m\u001b[0;34m(\u001b[0m\u001b[0mself\u001b[0m\u001b[0;34m.\u001b[0m\u001b[0mengine\u001b[0m\u001b[0;34m)\u001b[0m\u001b[0;34m\u001b[0m\u001b[0;34m\u001b[0m\u001b[0m\n\u001b[0m\u001b[1;32m    815\u001b[0m \u001b[0;34m\u001b[0m\u001b[0m\n\u001b[1;32m    816\u001b[0m     \u001b[0;32mdef\u001b[0m \u001b[0mclose\u001b[0m\u001b[0;34m(\u001b[0m\u001b[0mself\u001b[0m\u001b[0;34m)\u001b[0m\u001b[0;34m:\u001b[0m\u001b[0;34m\u001b[0m\u001b[0;34m\u001b[0m\u001b[0m\n",
      "\u001b[0;32m/Applications/anaconda3/lib/python3.8/site-packages/pandas/io/parsers.py\u001b[0m in \u001b[0;36m_make_engine\u001b[0;34m(self, engine)\u001b[0m\n\u001b[1;32m   1043\u001b[0m             )\n\u001b[1;32m   1044\u001b[0m         \u001b[0;31m# error: Too many arguments for \"ParserBase\"\u001b[0m\u001b[0;34m\u001b[0m\u001b[0;34m\u001b[0m\u001b[0;34m\u001b[0m\u001b[0m\n\u001b[0;32m-> 1045\u001b[0;31m         \u001b[0;32mreturn\u001b[0m \u001b[0mmapping\u001b[0m\u001b[0;34m[\u001b[0m\u001b[0mengine\u001b[0m\u001b[0;34m]\u001b[0m\u001b[0;34m(\u001b[0m\u001b[0mself\u001b[0m\u001b[0;34m.\u001b[0m\u001b[0mf\u001b[0m\u001b[0;34m,\u001b[0m \u001b[0;34m**\u001b[0m\u001b[0mself\u001b[0m\u001b[0;34m.\u001b[0m\u001b[0moptions\u001b[0m\u001b[0;34m)\u001b[0m  \u001b[0;31m# type: ignore[call-arg]\u001b[0m\u001b[0;34m\u001b[0m\u001b[0;34m\u001b[0m\u001b[0m\n\u001b[0m\u001b[1;32m   1046\u001b[0m \u001b[0;34m\u001b[0m\u001b[0m\n\u001b[1;32m   1047\u001b[0m     \u001b[0;32mdef\u001b[0m \u001b[0m_failover_to_python\u001b[0m\u001b[0;34m(\u001b[0m\u001b[0mself\u001b[0m\u001b[0;34m)\u001b[0m\u001b[0;34m:\u001b[0m\u001b[0;34m\u001b[0m\u001b[0;34m\u001b[0m\u001b[0m\n",
      "\u001b[0;32m/Applications/anaconda3/lib/python3.8/site-packages/pandas/io/parsers.py\u001b[0m in \u001b[0;36m__init__\u001b[0;34m(self, src, **kwds)\u001b[0m\n\u001b[1;32m   1860\u001b[0m \u001b[0;34m\u001b[0m\u001b[0m\n\u001b[1;32m   1861\u001b[0m         \u001b[0;31m# open handles\u001b[0m\u001b[0;34m\u001b[0m\u001b[0;34m\u001b[0m\u001b[0;34m\u001b[0m\u001b[0m\n\u001b[0;32m-> 1862\u001b[0;31m         \u001b[0mself\u001b[0m\u001b[0;34m.\u001b[0m\u001b[0m_open_handles\u001b[0m\u001b[0;34m(\u001b[0m\u001b[0msrc\u001b[0m\u001b[0;34m,\u001b[0m \u001b[0mkwds\u001b[0m\u001b[0;34m)\u001b[0m\u001b[0;34m\u001b[0m\u001b[0;34m\u001b[0m\u001b[0m\n\u001b[0m\u001b[1;32m   1863\u001b[0m         \u001b[0;32massert\u001b[0m \u001b[0mself\u001b[0m\u001b[0;34m.\u001b[0m\u001b[0mhandles\u001b[0m \u001b[0;32mis\u001b[0m \u001b[0;32mnot\u001b[0m \u001b[0;32mNone\u001b[0m\u001b[0;34m\u001b[0m\u001b[0;34m\u001b[0m\u001b[0m\n\u001b[1;32m   1864\u001b[0m         \u001b[0;32mfor\u001b[0m \u001b[0mkey\u001b[0m \u001b[0;32min\u001b[0m \u001b[0;34m(\u001b[0m\u001b[0;34m\"storage_options\"\u001b[0m\u001b[0;34m,\u001b[0m \u001b[0;34m\"encoding\"\u001b[0m\u001b[0;34m,\u001b[0m \u001b[0;34m\"memory_map\"\u001b[0m\u001b[0;34m,\u001b[0m \u001b[0;34m\"compression\"\u001b[0m\u001b[0;34m)\u001b[0m\u001b[0;34m:\u001b[0m\u001b[0;34m\u001b[0m\u001b[0;34m\u001b[0m\u001b[0m\n",
      "\u001b[0;32m/Applications/anaconda3/lib/python3.8/site-packages/pandas/io/parsers.py\u001b[0m in \u001b[0;36m_open_handles\u001b[0;34m(self, src, kwds)\u001b[0m\n\u001b[1;32m   1355\u001b[0m         \u001b[0mLet\u001b[0m \u001b[0mthe\u001b[0m \u001b[0mreaders\u001b[0m \u001b[0mopen\u001b[0m \u001b[0mIOHanldes\u001b[0m \u001b[0mafter\u001b[0m \u001b[0mthey\u001b[0m \u001b[0mare\u001b[0m \u001b[0mdone\u001b[0m \u001b[0;32mwith\u001b[0m \u001b[0mtheir\u001b[0m \u001b[0mpotential\u001b[0m \u001b[0mraises\u001b[0m\u001b[0;34m.\u001b[0m\u001b[0;34m\u001b[0m\u001b[0;34m\u001b[0m\u001b[0m\n\u001b[1;32m   1356\u001b[0m         \"\"\"\n\u001b[0;32m-> 1357\u001b[0;31m         self.handles = get_handle(\n\u001b[0m\u001b[1;32m   1358\u001b[0m             \u001b[0msrc\u001b[0m\u001b[0;34m,\u001b[0m\u001b[0;34m\u001b[0m\u001b[0;34m\u001b[0m\u001b[0m\n\u001b[1;32m   1359\u001b[0m             \u001b[0;34m\"r\"\u001b[0m\u001b[0;34m,\u001b[0m\u001b[0;34m\u001b[0m\u001b[0;34m\u001b[0m\u001b[0m\n",
      "\u001b[0;32m/Applications/anaconda3/lib/python3.8/site-packages/pandas/io/common.py\u001b[0m in \u001b[0;36mget_handle\u001b[0;34m(path_or_buf, mode, encoding, compression, memory_map, is_text, errors, storage_options)\u001b[0m\n\u001b[1;32m    640\u001b[0m                 \u001b[0merrors\u001b[0m \u001b[0;34m=\u001b[0m \u001b[0;34m\"replace\"\u001b[0m\u001b[0;34m\u001b[0m\u001b[0;34m\u001b[0m\u001b[0m\n\u001b[1;32m    641\u001b[0m             \u001b[0;31m# Encoding\u001b[0m\u001b[0;34m\u001b[0m\u001b[0;34m\u001b[0m\u001b[0;34m\u001b[0m\u001b[0m\n\u001b[0;32m--> 642\u001b[0;31m             handle = open(\n\u001b[0m\u001b[1;32m    643\u001b[0m                 \u001b[0mhandle\u001b[0m\u001b[0;34m,\u001b[0m\u001b[0;34m\u001b[0m\u001b[0;34m\u001b[0m\u001b[0m\n\u001b[1;32m    644\u001b[0m                 \u001b[0mioargs\u001b[0m\u001b[0;34m.\u001b[0m\u001b[0mmode\u001b[0m\u001b[0;34m,\u001b[0m\u001b[0;34m\u001b[0m\u001b[0;34m\u001b[0m\u001b[0m\n",
      "\u001b[0;31mFileNotFoundError\u001b[0m: [Errno 2] No such file or directory: 'jan17pub.dat'"
     ]
    }
   ],
   "source": [
    "# 2017\n",
    "# Reading dat files from Current Population Survery (CPS)\n",
    "def read_data17(month):\n",
    "    dataframe = pd.read_csv(f'{month}17pub.dat', header=None)\n",
    "    return dataframe\n",
    "\n",
    "# List of months\n",
    "months_list = ['jan', 'feb', 'mar', 'apr', 'may', 'jun', 'jul', 'aug', 'sep', 'oct', 'nov', 'dec']\n",
    "\n",
    "# Get the CPS data for all months\n",
    "list_of_dfs17 = [read_data17(i) for i in months_list]\n",
    "\n",
    "# List of month-specific dataframes\n",
    "df_jan17 = list_of_dfs17[0]\n",
    "df_feb17 = list_of_dfs17[1]\n",
    "df_mar17 = list_of_dfs17[2]\n",
    "df_apr17 = list_of_dfs17[3]\n",
    "df_may17 = list_of_dfs17[4]\n",
    "df_jun17 = list_of_dfs17[5]\n",
    "df_jul17 = list_of_dfs17[6]\n",
    "df_aug17 = list_of_dfs17[7]\n",
    "df_sep17 = list_of_dfs17[8]\n",
    "df_okt17 = list_of_dfs17[9]\n",
    "df_nov17 = list_of_dfs17[10]\n",
    "df_dec17 = list_of_dfs17[11]\n",
    "\n",
    "# Get the CPS data for all months\n",
    "list_of_df17 = [df_jan17, df_feb17, df_mar17, df_apr17, df_may17, df_jun17, df_jul17, df_aug17, df_sep17, df_okt17, df_nov17, df_dec17]\n",
    "\n",
    "# Concatenating dataframes\n",
    "df_CPS17 = pd.concat([df_jan17, df_feb17, df_mar17, df_apr17, df_may17, df_jun17, df_jul17, df_aug17, df_sep17, df_okt17, df_nov17, df_dec17], axis=0).reset_index(drop=True)\n",
    "# 39.5s"
   ]
  },
  {
   "cell_type": "code",
   "execution_count": 3,
   "metadata": {},
   "outputs": [],
   "source": [
    "# Renaming column 0\n",
    "df_CPS17.columns = ['column_with_all_values']\n",
    "\n",
    "# Splitting the cell with all values, keeping only the variables that i want to use for the analysis, 12:\n",
    "df_CPS17['HRMONTH'] = df_CPS17['column_with_all_values'].astype(str).str[15:17]\n",
    "df_CPS17['HRYEAR4'] = df_CPS17['column_with_all_values'].astype(str).str[17:21]\n",
    "df_CPS17['HUFINAL'] = df_CPS17['column_with_all_values'].astype(str).str[23:26]\n",
    "df_CPS17['HEFAMINC'] = df_CPS17['column_with_all_values'].astype(str).str[38:40]\n",
    "df_CPS17['GESTFIPS'] = df_CPS17['column_with_all_values'].astype(str).str[92:94]\n",
    "df_CPS17['GTMETSTA'] = df_CPS17['column_with_all_values'].astype(str).str[104:105]\n",
    "df_CPS17['PESEX'] = df_CPS17['column_with_all_values'].astype(str).str[128:130]\n",
    "df_CPS17['PRTAGE'] = df_CPS17['column_with_all_values'].astype(str).str[121:123]\n",
    "df_CPS17['PEEDUCA'] = df_CPS17['column_with_all_values'].astype(str).str[136:138]\n",
    "df_CPS17['PEMLR'] = df_CPS17['column_with_all_values'].astype(str).str[179:181]\n",
    "df_CPS17['PEHRACTT'] = df_CPS17['column_with_all_values'].astype(str).str[246:249]\n",
    "df_CPS17['PRDTIND1'] = df_CPS17['column_with_all_values'].astype(str).str[471:473]\n",
    "\n",
    "df_CPS17['PUHROT1'] = df_CPS17['column_with_all_values'].astype(str).str[238:240]\n",
    "df_CPS17['PUHROT2'] = df_CPS17['column_with_all_values'].astype(str).str[240:242]\n",
    "\n",
    "# Dropping the column with all values\n",
    "df_CPS17 = df_CPS17.drop('column_with_all_values',1)\n",
    "\n",
    "# 34.3s"
   ]
  },
  {
   "cell_type": "markdown",
   "metadata": {},
   "source": [
    "# 2018"
   ]
  },
  {
   "cell_type": "code",
   "execution_count": 6,
   "metadata": {},
   "outputs": [],
   "source": [
    "# 2018\n",
    "# Reading dat files from Current Population Survery (CPS)\n",
    "def read_data18(month):\n",
    "    dataframe = pd.read_csv(f'{month}18pub.dat', header=None)\n",
    "    return dataframe\n",
    "\n",
    "# List of months\n",
    "months_list = ['jan', 'feb', 'mar', 'may', 'jun', 'jul', 'aug', 'sep', 'oct', 'nov', 'dec']\n",
    "\n",
    "# Get the CPS data for all months\n",
    "list_of_dfs18 = [read_data18(i) for i in months_list]\n",
    "\n",
    "# List of month-specific dataframes\n",
    "df_jan18 = list_of_dfs18[0]\n",
    "df_feb18 = list_of_dfs18[1]\n",
    "df_mar18 = list_of_dfs18[2]\n",
    "#df_apr18 = list_of_dfs18[3]\n",
    "df_may18 = list_of_dfs18[3]\n",
    "df_jun18 = list_of_dfs18[4]\n",
    "df_jul18 = list_of_dfs18[5]\n",
    "df_aug18 = list_of_dfs18[6]\n",
    "df_sep18 = list_of_dfs18[7]\n",
    "df_okt18 = list_of_dfs18[8]\n",
    "df_nov18 = list_of_dfs18[9]\n",
    "df_dec18 = list_of_dfs18[10]\n",
    "\n",
    "# Get the CPS data for all months\n",
    "list_of_df18 = [df_jan18, df_feb18, df_mar18, df_may18, df_jun18, df_jul18, df_aug18, df_sep18, df_okt18, df_nov18, df_dec18]\n",
    "\n",
    "# Concatenating dataframes\n",
    "df_CPS18 = pd.concat([df_jan18, df_feb18, df_mar18, df_may18, df_jun18, df_jul18, df_aug18, df_sep18, df_okt18, df_nov18, df_dec18], axis=0).reset_index(drop=True)\n",
    "# 39.5s"
   ]
  },
  {
   "cell_type": "code",
   "execution_count": 7,
   "metadata": {},
   "outputs": [],
   "source": [
    "# Renaming column 0\n",
    "df_CPS18.columns = ['column_with_all_values']\n",
    "\n",
    "# Splitting the cell with all values, keeping only the variables that i want to use for the analysis, 12:\n",
    "df_CPS18['HRMONTH'] = df_CPS18['column_with_all_values'].astype(str).str[15:17]\n",
    "df_CPS18['HRYEAR4'] = df_CPS18['column_with_all_values'].astype(str).str[17:21]\n",
    "df_CPS18['HUFINAL'] = df_CPS18['column_with_all_values'].astype(str).str[23:26]\n",
    "df_CPS18['HEFAMINC'] = df_CPS18['column_with_all_values'].astype(str).str[38:40]\n",
    "df_CPS18['GESTFIPS'] = df_CPS18['column_with_all_values'].astype(str).str[92:94]\n",
    "df_CPS18['GTMETSTA'] = df_CPS18['column_with_all_values'].astype(str).str[104:105]\n",
    "df_CPS18['PESEX'] = df_CPS18['column_with_all_values'].astype(str).str[128:130]\n",
    "df_CPS18['PRTAGE'] = df_CPS18['column_with_all_values'].astype(str).str[121:123]\n",
    "df_CPS18['PEEDUCA'] = df_CPS18['column_with_all_values'].astype(str).str[136:138]\n",
    "df_CPS18['PEMLR'] = df_CPS18['column_with_all_values'].astype(str).str[179:181]\n",
    "df_CPS18['PEHRACTT'] = df_CPS18['column_with_all_values'].astype(str).str[246:249]\n",
    "df_CPS18['PRDTIND1'] = df_CPS18['column_with_all_values'].astype(str).str[471:473]\n",
    "\n",
    "df_CPS18['PUHROT1'] = df_CPS18['column_with_all_values'].astype(str).str[238:240]\n",
    "df_CPS18['PUHROT2'] = df_CPS18['column_with_all_values'].astype(str).str[240:242]\n",
    "\n",
    "# Dropping the column with all values\n",
    "df_CPS18 = df_CPS18.drop('column_with_all_values',1)\n",
    "\n",
    "# 34.3s"
   ]
  },
  {
   "cell_type": "markdown",
   "metadata": {},
   "source": [
    "# 2019"
   ]
  },
  {
   "cell_type": "code",
   "execution_count": 8,
   "metadata": {},
   "outputs": [],
   "source": [
    "# 2019\n",
    "# Reading dat files from Current Population Survery (CPS)\n",
    "def read_data19(month):\n",
    "    dataframe = pd.read_csv(f'{month}19pub.dat', header=None)\n",
    "    return dataframe\n",
    "\n",
    "# List of months\n",
    "months_list = ['jan', 'feb', 'mar', 'apr', 'may', 'jun', 'jul', 'aug', 'sep', 'oct', 'nov', 'dec']\n",
    "\n",
    "# Get the CPS data for all months\n",
    "list_of_dfs19 = [read_data19(i) for i in months_list]\n",
    "\n",
    "# List of month-specific dataframes\n",
    "df_jan19 = list_of_dfs19[0]\n",
    "df_feb19 = list_of_dfs19[1]\n",
    "df_mar19 = list_of_dfs19[2]\n",
    "df_apr19 = list_of_dfs19[3]\n",
    "df_may19 = list_of_dfs19[4]\n",
    "df_jun19 = list_of_dfs19[5]\n",
    "df_jul19 = list_of_dfs19[6]\n",
    "df_aug19 = list_of_dfs19[7]\n",
    "df_sep19 = list_of_dfs19[8]\n",
    "df_okt19 = list_of_dfs19[9]\n",
    "df_nov19 = list_of_dfs19[10]\n",
    "df_dec19 = list_of_dfs19[11]\n",
    "\n",
    "# Get the CPS data for all months\n",
    "list_of_df19 = [df_jan19, df_feb19, df_mar19, df_apr19, df_may19, df_jun19, df_jul19, df_aug19, df_sep19, df_okt19, df_nov19, df_dec19]\n",
    "\n",
    "# Concatenating dataframes\n",
    "df_CPS19 = pd.concat([df_jan19, df_feb19, df_mar19, df_apr19, df_may19, df_jun19, df_jul19, df_aug19, df_sep19, df_okt19, df_nov19, df_dec19], axis=0).reset_index(drop=True)\n",
    "# 39.5s"
   ]
  },
  {
   "cell_type": "code",
   "execution_count": 9,
   "metadata": {},
   "outputs": [],
   "source": [
    "# Renaming column 0\n",
    "df_CPS19.columns = ['column_with_all_values']\n",
    "\n",
    "# Splitting the cell with all values, keeping only the variables that i want to use for the analysis, 12:\n",
    "df_CPS19['HRMONTH'] = df_CPS19['column_with_all_values'].astype(str).str[15:17]\n",
    "df_CPS19['HRYEAR4'] = df_CPS19['column_with_all_values'].astype(str).str[17:21]\n",
    "df_CPS19['HUFINAL'] = df_CPS19['column_with_all_values'].astype(str).str[23:26]\n",
    "df_CPS19['HEFAMINC'] = df_CPS19['column_with_all_values'].astype(str).str[38:40]\n",
    "df_CPS19['GESTFIPS'] = df_CPS19['column_with_all_values'].astype(str).str[92:94]\n",
    "df_CPS19['GTMETSTA'] = df_CPS19['column_with_all_values'].astype(str).str[104:105]\n",
    "df_CPS19['PESEX'] = df_CPS19['column_with_all_values'].astype(str).str[128:130]\n",
    "df_CPS19['PRTAGE'] = df_CPS19['column_with_all_values'].astype(str).str[121:123]\n",
    "df_CPS19['PEEDUCA'] = df_CPS19['column_with_all_values'].astype(str).str[136:138]\n",
    "df_CPS19['PEMLR'] = df_CPS19['column_with_all_values'].astype(str).str[179:181]\n",
    "df_CPS19['PEHRACTT'] = df_CPS19['column_with_all_values'].astype(str).str[246:249]\n",
    "df_CPS19['PRDTIND1'] = df_CPS19['column_with_all_values'].astype(str).str[471:473]\n",
    "\n",
    "df_CPS19['PUHROT1'] = df_CPS19['column_with_all_values'].astype(str).str[238:240]\n",
    "df_CPS19['PUHROT2'] = df_CPS19['column_with_all_values'].astype(str).str[240:242]\n",
    "\n",
    "# Dropping the column with all values\n",
    "df_CPS19 = df_CPS19.drop('column_with_all_values',1)\n",
    "\n",
    "# 34.3s"
   ]
  },
  {
   "cell_type": "markdown",
   "metadata": {},
   "source": [
    "# 2020"
   ]
  },
  {
   "cell_type": "code",
   "execution_count": 10,
   "metadata": {},
   "outputs": [],
   "source": [
    "# 2020 (januar - april)\n",
    "# Reading csv files from Current Population Survery (CPS)\n",
    "def read_data20(month):\n",
    "    url = f'https://www2.census.gov/programs-surveys/cps/datasets/2020/basic/{month}20pub.csv'\n",
    "    dataframe = pd.read_csv(url)\n",
    "    return dataframe\n",
    "\n",
    "# List of months\n",
    "months_list = ['jan', 'feb', 'mar', 'apr']\n",
    "\n",
    "# Get the CPS data for all months\n",
    "list_of_dfs20 = [read_data20(i) for i in months_list]\n",
    "\n",
    "# List of month-specific dataframes\n",
    "df_jan20 = list_of_dfs20[0]\n",
    "df_feb20 = list_of_dfs20[1]\n",
    "df_mar20 = list_of_dfs20[2]\n",
    "df_apr20 = list_of_dfs20[3]\n",
    "\n",
    "# Get the CPS data for all months\n",
    "list_of_df20 = [df_jan20, df_feb20, df_mar20, df_apr20]\n",
    "\n",
    "# Concatenating dataframes\n",
    "df_CPS20 = pd.concat([df_jan20, df_feb20, df_mar20, df_apr20], axis=0).reset_index(drop=True)\n",
    "\n",
    "#126.0s"
   ]
  },
  {
   "cell_type": "code",
   "execution_count": 11,
   "metadata": {},
   "outputs": [],
   "source": [
    "# Selecting columns, 12:\n",
    "df_CPS20 = df_CPS20[['HRMONTH','HRYEAR4','HUFINAL','gestfips','pesex','prtage','peeduca','pemlr','pehractt','prdtind1','hefaminc', 'gtmetsta', 'PUHROT1', 'PUHROT2']]\n",
    "\n",
    "# Renaming to upper capital letters\n",
    "df_CPS20 = df_CPS20.rename(columns={'gestfips': 'GESTFIPS','pesex': 'PESEX', 'prtage': 'PRTAGE', 'peeduca': 'PEEDUCA', 'pemlr': 'PEMLR', 'pehractt': 'PEHRACTT', 'prdtind1': 'PRDTIND1', 'hefaminc':'HEFAMINC', 'gtmetsta':'GTMETSTA'})\n",
    "\n",
    "#10.3s"
   ]
  },
  {
   "cell_type": "markdown",
   "metadata": {},
   "source": [
    "# Concatenating CPS data in January 2017 - April 2020"
   ]
  },
  {
   "cell_type": "code",
   "execution_count": 1,
   "metadata": {},
   "outputs": [
    {
     "ename": "NameError",
     "evalue": "name 'pd' is not defined",
     "output_type": "error",
     "traceback": [
      "\u001b[0;31m---------------------------------------------------------------------------\u001b[0m",
      "\u001b[0;31mNameError\u001b[0m                                 Traceback (most recent call last)",
      "\u001b[0;32m<ipython-input-1-364dec5a8d4c>\u001b[0m in \u001b[0;36m<module>\u001b[0;34m\u001b[0m\n\u001b[1;32m      1\u001b[0m \u001b[0;31m# Concatenating dataframes\u001b[0m\u001b[0;34m\u001b[0m\u001b[0;34m\u001b[0m\u001b[0;34m\u001b[0m\u001b[0m\n\u001b[0;32m----> 2\u001b[0;31m \u001b[0mdf_CPSc\u001b[0m \u001b[0;34m=\u001b[0m \u001b[0mpd\u001b[0m\u001b[0;34m.\u001b[0m\u001b[0mconcat\u001b[0m\u001b[0;34m(\u001b[0m\u001b[0;34m[\u001b[0m\u001b[0mdf_CPS19\u001b[0m\u001b[0;34m,\u001b[0m \u001b[0mdf_CPS20\u001b[0m\u001b[0;34m]\u001b[0m\u001b[0;34m,\u001b[0m \u001b[0maxis\u001b[0m\u001b[0;34m=\u001b[0m\u001b[0;36m0\u001b[0m\u001b[0;34m)\u001b[0m\u001b[0;34m.\u001b[0m\u001b[0mreset_index\u001b[0m\u001b[0;34m(\u001b[0m\u001b[0mdrop\u001b[0m\u001b[0;34m=\u001b[0m\u001b[0;32mTrue\u001b[0m\u001b[0;34m)\u001b[0m\u001b[0;34m\u001b[0m\u001b[0;34m\u001b[0m\u001b[0m\n\u001b[0m\u001b[1;32m      3\u001b[0m \u001b[0;31m#df_CPS17, df_CPS18,\u001b[0m\u001b[0;34m\u001b[0m\u001b[0;34m\u001b[0m\u001b[0;34m\u001b[0m\u001b[0m\n\u001b[1;32m      4\u001b[0m \u001b[0;31m# 5.578.725 = interviews\u001b[0m\u001b[0;34m\u001b[0m\u001b[0;34m\u001b[0m\u001b[0;34m\u001b[0m\u001b[0m\n\u001b[1;32m      5\u001b[0m \u001b[0;31m# 22.3s\u001b[0m\u001b[0;34m\u001b[0m\u001b[0;34m\u001b[0m\u001b[0;34m\u001b[0m\u001b[0m\n",
      "\u001b[0;31mNameError\u001b[0m: name 'pd' is not defined"
     ]
    }
   ],
   "source": [
    "# Concatenating dataframes\n",
    "df_CPSc = pd.concat([df_CPS19, df_CPS20], axis=0).reset_index(drop=True)\n",
    "#df_CPS17, df_CPS18,\n",
    "# 5.578.725 = interviews\n",
    "# 22.3s\n",
    "df_CPSc"
   ]
  },
  {
   "cell_type": "markdown",
   "metadata": {},
   "source": [
    "# Cleaning data"
   ]
  },
  {
   "cell_type": "code",
   "execution_count": 4,
   "metadata": {},
   "outputs": [
    {
     "ename": "NameError",
     "evalue": "name 'df_CPSc' is not defined",
     "output_type": "error",
     "traceback": [
      "\u001b[0;31m---------------------------------------------------------------------------\u001b[0m",
      "\u001b[0;31mNameError\u001b[0m                                 Traceback (most recent call last)",
      "\u001b[0;32m<ipython-input-4-b1ff273ee769>\u001b[0m in \u001b[0;36m<module>\u001b[0;34m\u001b[0m\n\u001b[1;32m      1\u001b[0m \u001b[0;31m# replacing NaN in column PEHRACTT with 0\u001b[0m\u001b[0;34m\u001b[0m\u001b[0;34m\u001b[0m\u001b[0;34m\u001b[0m\u001b[0m\n\u001b[0;32m----> 2\u001b[0;31m \u001b[0mdf_CPSc\u001b[0m\u001b[0;34m[\u001b[0m\u001b[0;34m'PEHRACTT'\u001b[0m\u001b[0;34m]\u001b[0m \u001b[0;34m=\u001b[0m \u001b[0mdf_CPSc\u001b[0m\u001b[0;34m[\u001b[0m\u001b[0;34m'PEHRACTT'\u001b[0m\u001b[0;34m]\u001b[0m\u001b[0;34m.\u001b[0m\u001b[0mfillna\u001b[0m\u001b[0;34m(\u001b[0m\u001b[0;36m0\u001b[0m\u001b[0;34m)\u001b[0m\u001b[0;34m\u001b[0m\u001b[0;34m\u001b[0m\u001b[0m\n\u001b[0m\u001b[1;32m      3\u001b[0m \u001b[0;34m\u001b[0m\u001b[0m\n\u001b[1;32m      4\u001b[0m \u001b[0;31m# Dropping rows with NaN\u001b[0m\u001b[0;34m\u001b[0m\u001b[0;34m\u001b[0m\u001b[0;34m\u001b[0m\u001b[0m\n\u001b[1;32m      5\u001b[0m \u001b[0mdf_CPSc\u001b[0m \u001b[0;34m=\u001b[0m \u001b[0mdf_CPSc\u001b[0m\u001b[0;34m.\u001b[0m\u001b[0mdropna\u001b[0m\u001b[0;34m(\u001b[0m\u001b[0;34m)\u001b[0m\u001b[0;34m\u001b[0m\u001b[0;34m\u001b[0m\u001b[0m\n",
      "\u001b[0;31mNameError\u001b[0m: name 'df_CPSc' is not defined"
     ]
    }
   ],
   "source": [
    "# replacing NaN in column PEHRACTT with 0\n",
    "df_CPSc['PEHRACTT'] = df_CPSc['PEHRACTT'].fillna(0)\n",
    "\n",
    "# Dropping rows with NaN\n",
    "df_CPSc = df_CPSc.dropna() \n",
    "\n",
    "# Converting to int\n",
    "df_CPSc['HRMONTH'] = df_CPSc['HRMONTH'].astype(int)\n",
    "df_CPSc['HRYEAR4'] = df_CPSc['HRYEAR4'].astype(int)\n",
    "df_CPSc['HUFINAL'] = df_CPSc['HUFINAL'].astype(int)\n",
    "df_CPSc['GESTFIPS'] = df_CPSc['GESTFIPS'].astype(int)\n",
    "df_CPSc['PESEX'] = df_CPSc['PESEX'].astype(int)\n",
    "df_CPSc['PRTAGE'] = df_CPSc['PRTAGE'].astype(int)\n",
    "df_CPSc['PEEDUCA'] = df_CPSc['PEEDUCA'].astype(int)\n",
    "df_CPSc['PEMLR'] = df_CPSc['PEMLR'].astype(int)\n",
    "df_CPSc['PEHRACTT'] = df_CPSc['PEHRACTT'].astype(int)\n",
    "df_CPSc['PRDTIND1'] = df_CPSc['PRDTIND1'].astype(int)\n",
    "df_CPSc['HEFAMINC'] = df_CPSc['HEFAMINC'].astype(int)\n",
    "df_CPSc['GTMETSTA'] = df_CPSc['GTMETSTA'].astype(int)\n",
    "\n",
    "df_CPSc['PUHROT1'] = df_CPSc['PUHROT1'].astype(int)\n",
    "df_CPSc['PUHROT2'] = df_CPSc['PUHROT2'].astype(int)\n",
    "\n",
    "# Dropping PRTAGE with values < 21, that is prtage >=21\n",
    "df_CPSc = df_CPSc.loc[df_CPSc['PRTAGE'] >= 21]\n",
    "\n",
    "# Which values are in the data set of 'HUFINAL' \n",
    "list_t = df_CPSc['HUFINAL'].tolist()\n",
    "list_u = df_CPSc['HUFINAL'].unique()\n",
    "#print(list_u) \n",
    "\n",
    "# Removing anything else than 001: FULLY COMPLETE CATI INTERVIEW and 201: CAPI COMPLETE \n",
    "list = [1,201]\n",
    "df_CPSc = df_CPSc.loc[df_CPSc['HUFINAL'].isin(list)]\n",
    "\n",
    "# Dropping Hufinal\n",
    "df_CPSc = df_CPSc.drop(['HUFINAL'], axis=1)\n",
    "# 20.6s"
   ]
  },
  {
   "cell_type": "code",
   "execution_count": 61,
   "metadata": {},
   "outputs": [],
   "source": [
    "# Dropping rows with -1 'Blank', -2 'Dont know' or -3 'Refused' in the following columns\n",
    "df_CPSc = df_CPSc.loc[df_CPSc['GESTFIPS'] != -1 | -2 | -3]\n",
    "df_CPSc = df_CPSc.loc[df_CPSc['PESEX'] != -1 | -2 | -3]\n",
    "#df_CPSc = df_CPSc.loc[df_CPSc['PRTAGE'] != -1 | -2 | -3] is already dropped\n",
    "df_CPSc = df_CPSc.loc[df_CPSc['PEEDUCA'] != -1 | -2 | -3]\n",
    "df_CPSc = df_CPSc.loc[df_CPSc['PEMLR'] != -1 | -2 | -3]\n",
    "#df_CPSc = df_CPSc.loc[df_CPSc['PRDTIND1'] != -1 | -2 | -3] industry evt. slet\n",
    "df_CPSc = df_CPSc.loc[df_CPSc['HEFAMINC'] != -1 | -2 | -3]\n",
    "\n",
    "# Dropping rows with 'Not identified' 3\n",
    "df_CPSc = df_CPSc.loc[df_CPSc['GTMETSTA'] != 3]\n",
    "# 1.7s"
   ]
  },
  {
   "cell_type": "markdown",
   "metadata": {},
   "source": [
    "### Working overtime variables:\n",
    "- PUHROT1: Last wee, did you work any overtime \n",
    "- PUHROT2: How many additional hours"
   ]
  },
  {
   "cell_type": "code",
   "execution_count": 15,
   "metadata": {},
   "outputs": [
    {
     "name": "stdout",
     "output_type": "stream",
     "text": [
      " 2    0.498046\n",
      "-1    0.456498\n",
      " 1    0.043109\n",
      "-2    0.001766\n",
      "-3    0.000581\n",
      "Name: PUHROT1, dtype: float64\n"
     ]
    }
   ],
   "source": [
    "# Printing the unique values in 'PUHROT1'\n",
    "item_counts = df_CPSc['PUHROT1'].value_counts(normalize=True)\n",
    "print(item_counts)\n",
    "\n",
    "# Replacing -1 blanked with a zero taking that answer as a no\n",
    "df_CPSc['PUHROT1'] = df_CPSc['PUHROT1'].replace({-1: 2, -2: 2, -3: 2}) "
   ]
  },
  {
   "cell_type": "code",
   "execution_count": 16,
   "metadata": {},
   "outputs": [],
   "source": [
    "# Replacing -1, -2, -3 with a zero taking that answer as zero hours worked\n",
    "df_CPSc['PUHROT2'] = df_CPSc['PUHROT2'].replace({-1: 0, -2: 0, -3: 0}) "
   ]
  },
  {
   "cell_type": "markdown",
   "metadata": {},
   "source": [
    "### Finally reseting index and counting number of interviews"
   ]
  },
  {
   "cell_type": "code",
   "execution_count": 62,
   "metadata": {},
   "outputs": [],
   "source": [
    "# Finally reseting index and dropping 'level_0' and 'index'\n",
    "df_CPSc = df_CPSc.reset_index()\n",
    "del df_CPSc['index']\n",
    "# ending up with 3.447.927 interviews"
   ]
  },
  {
   "cell_type": "markdown",
   "metadata": {},
   "source": [
    "# Adding dummies and much more"
   ]
  },
  {
   "cell_type": "code",
   "execution_count": 63,
   "metadata": {},
   "outputs": [],
   "source": [
    "# dataset cleaned\n",
    "df_CPS = df_CPSc"
   ]
  },
  {
   "cell_type": "markdown",
   "metadata": {},
   "source": [
    "### Creating dummies for employment: PEMLR and adding column with the share of employed individuals for each month within a year"
   ]
  },
  {
   "cell_type": "code",
   "execution_count": 64,
   "metadata": {},
   "outputs": [],
   "source": [
    "# Creating dummies for employment, 1-7\n",
    "df_CPS = pd.get_dummies(data=df_CPS, columns=['PEMLR'])\n",
    "\n",
    "# Dropping any columns except for PEMLR_1\n",
    "df_CPS = df_CPS.drop(df_CPS[['PEMLR_2', 'PEMLR_3', 'PEMLR_4', 'PEMLR_5', 'PEMLR_6', 'PEMLR_7']], axis=1)"
   ]
  },
  {
   "cell_type": "code",
   "execution_count": 65,
   "metadata": {},
   "outputs": [],
   "source": [
    "# Individuals who have answered PEMLR = 1 (employed)\n",
    "#sum = df_CPS.groupby(['HRYEAR4', 'HRMONTH']).agg({'PEMLR_1': 'sum'})\n",
    "\n",
    "# Individuals in total in a given month year\n",
    "#count = df_CPS.groupby(['HRYEAR4', 'HRMONTH']).agg({'PEMLR_1': 'count'})\n",
    "\n",
    "# PEMLR_1 in percentage\n",
    "#PEMLR_PCT = (sum/count)*100\n",
    "\n",
    "# Differnt way, but same as above :)\n",
    "PEMLR_PCT2 = df_CPS.groupby(['HRYEAR4', 'HRMONTH']).agg({'PEMLR_1': 'mean'})"
   ]
  },
  {
   "cell_type": "markdown",
   "metadata": {},
   "source": [
    "### Creating dummies for overtime work: PUHROT1 and adding column with the share of overtime workers for each month within a year"
   ]
  },
  {
   "cell_type": "code",
   "execution_count": 66,
   "metadata": {},
   "outputs": [],
   "source": [
    "# Creating dummies for employment, 1-7\n",
    "df_CPS = pd.get_dummies(data=df_CPS, columns=['PUHROT1'])\n",
    "\n",
    "# Dropping PUHROT1_2\n",
    "df_CPS = df_CPS.drop('PUHROT1_2', axis=1)\n",
    "\n",
    "# PUHROT_1 in percentage\n",
    "PUHROT1_PCT = df_CPS.groupby(['HRYEAR4', 'HRMONTH']).agg({'PUHROT1_1': 'mean'})"
   ]
  },
  {
   "cell_type": "markdown",
   "metadata": {},
   "source": [
    "### Creating dummies for highest level of education: PEEDUCA and organizing into categories"
   ]
  },
  {
   "cell_type": "code",
   "execution_count": 67,
   "metadata": {},
   "outputs": [],
   "source": [
    "# Highest level of education, how does it look?\n",
    "item_counts2 = df_CPS['PEEDUCA'].value_counts(normalize=True)\n",
    "#print(item_counts2)"
   ]
  },
  {
   "cell_type": "code",
   "execution_count": 68,
   "metadata": {},
   "outputs": [],
   "source": [
    "# Creating dummies for hihest level of education 31-46\n",
    "df_CPS = pd.get_dummies(data=df_CPS, columns = ['PEEDUCA'])\n",
    "\n",
    "# Only saving PEEDUCA for 5 categories: 38, 39, 40, 43, 44.\n",
    "df_CPS = df_CPS.drop(df_CPS[['PEEDUCA_31', 'PEEDUCA_32', 'PEEDUCA_33', 'PEEDUCA_34', 'PEEDUCA_35', 'PEEDUCA_36', 'PEEDUCA_37', 'PEEDUCA_41', 'PEEDUCA_42', 'PEEDUCA_45', 'PEEDUCA_46']], axis=1)"
   ]
  },
  {
   "cell_type": "markdown",
   "metadata": {},
   "source": [
    "### Creating dummies for other variables:\n",
    "- Sex: PESEX \n",
    "- Metropoliatn: GTMETSTA"
   ]
  },
  {
   "cell_type": "code",
   "execution_count": 69,
   "metadata": {},
   "outputs": [],
   "source": [
    "# creating dummies from 1-2 \n",
    "df_CPS = pd.get_dummies(data=df_CPS, columns = ['PESEX', 'GTMETSTA'])\n",
    "\n",
    "# Only saving PESEX_1 = Female, GTMETSTA_1 = Metropolitan, PUHOROT1_1 = Overtime work, yes\n",
    "df_CPS = df_CPS.drop(df_CPS[['PESEX_2', 'GTMETSTA_2']], axis=1)"
   ]
  },
  {
   "cell_type": "markdown",
   "metadata": {},
   "source": [
    "# Descriptive statistics"
   ]
  },
  {
   "cell_type": "markdown",
   "metadata": {},
   "source": [
    "### Descriptive statistics for\n",
    "- Family income and demograpich variables"
   ]
  },
  {
   "cell_type": "code",
   "execution_count": 471,
   "metadata": {},
   "outputs": [
    {
     "data": {
      "text/html": "<div>\n<style scoped>\n    .dataframe tbody tr th:only-of-type {\n        vertical-align: middle;\n    }\n\n    .dataframe tbody tr th {\n        vertical-align: top;\n    }\n\n    .dataframe thead th {\n        text-align: right;\n    }\n</style>\n<table border=\"1\" class=\"dataframe\">\n  <thead>\n    <tr style=\"text-align: right;\">\n      <th></th>\n      <th>HEFAMINC</th>\n      <th>PUHROT1_1</th>\n      <th>PESEX_1</th>\n      <th>PRTAGE</th>\n      <th>PEEDUCA_38</th>\n      <th>PEEDUCA_39</th>\n      <th>PEEDUCA_40</th>\n      <th>PEEDUCA_43</th>\n      <th>PEEDUCA_44</th>\n      <th>GTMETSTA_1</th>\n    </tr>\n  </thead>\n  <tbody>\n    <tr>\n      <th>count</th>\n      <td>3447927.00</td>\n      <td>3447927.00</td>\n      <td>3447927.00</td>\n      <td>3447927.00</td>\n      <td>3447927.00</td>\n      <td>3447927.00</td>\n      <td>3447927.00</td>\n      <td>3447927.00</td>\n      <td>3447927.00</td>\n      <td>3447927.00</td>\n    </tr>\n    <tr>\n      <th>mean</th>\n      <td>11.54</td>\n      <td>0.04</td>\n      <td>0.47</td>\n      <td>50.52</td>\n      <td>0.01</td>\n      <td>0.29</td>\n      <td>0.17</td>\n      <td>0.22</td>\n      <td>0.09</td>\n      <td>0.81</td>\n    </tr>\n    <tr>\n      <th>std</th>\n      <td>3.89</td>\n      <td>0.20</td>\n      <td>0.50</td>\n      <td>17.35</td>\n      <td>0.11</td>\n      <td>0.45</td>\n      <td>0.38</td>\n      <td>0.41</td>\n      <td>0.29</td>\n      <td>0.40</td>\n    </tr>\n    <tr>\n      <th>min</th>\n      <td>1.00</td>\n      <td>0.00</td>\n      <td>0.00</td>\n      <td>21.00</td>\n      <td>0.00</td>\n      <td>0.00</td>\n      <td>0.00</td>\n      <td>0.00</td>\n      <td>0.00</td>\n      <td>0.00</td>\n    </tr>\n    <tr>\n      <th>25%</th>\n      <td>9.00</td>\n      <td>0.00</td>\n      <td>0.00</td>\n      <td>36.00</td>\n      <td>0.00</td>\n      <td>0.00</td>\n      <td>0.00</td>\n      <td>0.00</td>\n      <td>0.00</td>\n      <td>1.00</td>\n    </tr>\n    <tr>\n      <th>50%</th>\n      <td>13.00</td>\n      <td>0.00</td>\n      <td>0.00</td>\n      <td>51.00</td>\n      <td>0.00</td>\n      <td>0.00</td>\n      <td>0.00</td>\n      <td>0.00</td>\n      <td>0.00</td>\n      <td>1.00</td>\n    </tr>\n    <tr>\n      <th>75%</th>\n      <td>15.00</td>\n      <td>0.00</td>\n      <td>1.00</td>\n      <td>64.00</td>\n      <td>0.00</td>\n      <td>1.00</td>\n      <td>0.00</td>\n      <td>0.00</td>\n      <td>0.00</td>\n      <td>1.00</td>\n    </tr>\n    <tr>\n      <th>max</th>\n      <td>16.00</td>\n      <td>1.00</td>\n      <td>1.00</td>\n      <td>85.00</td>\n      <td>1.00</td>\n      <td>1.00</td>\n      <td>1.00</td>\n      <td>1.00</td>\n      <td>1.00</td>\n      <td>1.00</td>\n    </tr>\n  </tbody>\n</table>\n</div>",
      "text/plain": "         HEFAMINC   PUHROT1_1     PESEX_1      PRTAGE  PEEDUCA_38  PEEDUCA_39  \\\ncount  3447927.00  3447927.00  3447927.00  3447927.00  3447927.00  3447927.00   \nmean        11.54        0.04        0.47       50.52        0.01        0.29   \nstd          3.89        0.20        0.50       17.35        0.11        0.45   \nmin          1.00        0.00        0.00       21.00        0.00        0.00   \n25%          9.00        0.00        0.00       36.00        0.00        0.00   \n50%         13.00        0.00        0.00       51.00        0.00        0.00   \n75%         15.00        0.00        1.00       64.00        0.00        1.00   \nmax         16.00        1.00        1.00       85.00        1.00        1.00   \n\n       PEEDUCA_40  PEEDUCA_43  PEEDUCA_44  GTMETSTA_1  \ncount  3447927.00  3447927.00  3447927.00  3447927.00  \nmean         0.17        0.22        0.09        0.81  \nstd          0.38        0.41        0.29        0.40  \nmin          0.00        0.00        0.00        0.00  \n25%          0.00        0.00        0.00        1.00  \n50%          0.00        0.00        0.00        1.00  \n75%          0.00        0.00        0.00        1.00  \nmax          1.00        1.00        1.00        1.00  "
     },
     "execution_count": 471,
     "metadata": {},
     "output_type": "execute_result"
    }
   ],
   "source": [
    "# Descriptive statistics\n",
    "df_CPS_ds = df_CPS[['HEFAMINC', 'PESEX_1', 'PRTAGE', 'PEEDUCA_38', 'PEEDUCA_39', 'PEEDUCA_40', 'PEEDUCA_43', 'PEEDUCA_44', 'GTMETSTA_1']].describe()\n",
    "df_CPS_ds.round(2)"
   ]
  },
  {
   "cell_type": "markdown",
   "metadata": {},
   "source": [
    "### Descriptive statistics for\n",
    "- Share of employed respondents\n",
    "- Share of Overtime workers\n",
    "- Total Hours Worked Last Week (Employed)\n",
    "- Total Hours Worked Last Week (Overall)"
   ]
  },
  {
   "cell_type": "code",
   "execution_count": 39,
   "metadata": {},
   "outputs": [
    {
     "data": {
      "text/html": "<div>\n<style scoped>\n    .dataframe tbody tr th:only-of-type {\n        vertical-align: middle;\n    }\n\n    .dataframe tbody tr th {\n        vertical-align: top;\n    }\n\n    .dataframe thead th {\n        text-align: right;\n    }\n</style>\n<table border=\"1\" class=\"dataframe\">\n  <thead>\n    <tr style=\"text-align: right;\">\n      <th></th>\n      <th>PEMLR_1</th>\n    </tr>\n  </thead>\n  <tbody>\n    <tr>\n      <th>count</th>\n      <td>39.00</td>\n    </tr>\n    <tr>\n      <th>mean</th>\n      <td>0.59</td>\n    </tr>\n    <tr>\n      <th>std</th>\n      <td>0.02</td>\n    </tr>\n    <tr>\n      <th>min</th>\n      <td>0.48</td>\n    </tr>\n    <tr>\n      <th>25%</th>\n      <td>0.58</td>\n    </tr>\n    <tr>\n      <th>50%</th>\n      <td>0.59</td>\n    </tr>\n    <tr>\n      <th>75%</th>\n      <td>0.60</td>\n    </tr>\n    <tr>\n      <th>max</th>\n      <td>0.60</td>\n    </tr>\n  </tbody>\n</table>\n</div>",
      "text/plain": "       PEMLR_1\ncount    39.00\nmean      0.59\nstd       0.02\nmin       0.48\n25%       0.58\n50%       0.59\n75%       0.60\nmax       0.60"
     },
     "execution_count": 39,
     "metadata": {},
     "output_type": "execute_result"
    }
   ],
   "source": [
    "# Descriptive statistics for share of employment\n",
    "PEMLR_PCT2_ds = PEMLR_PCT2.describe()\n",
    "PEMLR_PCT2_ds.round(2)"
   ]
  },
  {
   "cell_type": "code",
   "execution_count": 42,
   "metadata": {},
   "outputs": [
    {
     "data": {
      "text/html": "<div>\n<style scoped>\n    .dataframe tbody tr th:only-of-type {\n        vertical-align: middle;\n    }\n\n    .dataframe tbody tr th {\n        vertical-align: top;\n    }\n\n    .dataframe thead th {\n        text-align: right;\n    }\n</style>\n<table border=\"1\" class=\"dataframe\">\n  <thead>\n    <tr style=\"text-align: right;\">\n      <th></th>\n      <th>PUHROT1_1</th>\n    </tr>\n    <tr>\n      <th>PEMLR_1</th>\n      <th></th>\n    </tr>\n  </thead>\n  <tbody>\n    <tr>\n      <th>0</th>\n      <td>1</td>\n    </tr>\n    <tr>\n      <th>1</th>\n      <td>1</td>\n    </tr>\n  </tbody>\n</table>\n</div>",
      "text/plain": "         PUHROT1_1\nPEMLR_1           \n0                1\n1                1"
     },
     "execution_count": 42,
     "metadata": {},
     "output_type": "execute_result"
    }
   ],
   "source": [
    "# Descriptive statistics for share of overtime workers\n",
    "PUHROT1_PCT_ds = PUHROT1_PCT.describe()\n",
    "PUHROT1_PCT_ds.round(2)\n",
    "\n",
    "# Descriptive statistics for share of overtime workers (Employed)\n",
    "#PUHROT1_PCT2 = df_CPS.groupby(['PEMLR_1']).agg({'PUHROT1_1': 'mean'})\n",
    "#PUHROT1_PCT2 = df_CPS.groupby(['PEMLR_1']).agg({'PUHROT1_1': 'std'})\n",
    "#PUHROT1_PCT2 = df_CPS.groupby(['PEMLR_1']).agg({'PUHROT1_1': 'min'})\n",
    "PUHROT1_PCT2 = df_CPS.groupby(['PEMLR_1']).agg({'PUHROT1_1': 'max'})\n",
    "#PUHROT1_PCT2 = df_CPS.groupby(['PEMLR_1']).quantile(q=0.5)\n",
    "PUHROT1_PCT2"
   ]
  },
  {
   "cell_type": "code",
   "execution_count": 193,
   "metadata": {},
   "outputs": [
    {
     "ename": "NameError",
     "evalue": "name 'PEHRACTT2' is not defined",
     "output_type": "error",
     "traceback": [
      "\u001b[0;31m---------------------------------------------------------------------------\u001b[0m",
      "\u001b[0;31mNameError\u001b[0m                                 Traceback (most recent call last)",
      "\u001b[0;32m<ipython-input-193-d8d644fca74d>\u001b[0m in \u001b[0;36m<module>\u001b[0;34m\u001b[0m\n\u001b[1;32m      5\u001b[0m \u001b[0;31m#PEHRACTT2 = df_CPS.groupby(['PEMLR_1']).agg({'PEHRACTT': 'max'})\u001b[0m\u001b[0;34m\u001b[0m\u001b[0;34m\u001b[0m\u001b[0;34m\u001b[0m\u001b[0m\n\u001b[1;32m      6\u001b[0m \u001b[0;31m#PEHRACTT2 = df_CPS.groupby(['PEMLR_1']).quantile(q=0.5)\u001b[0m\u001b[0;34m\u001b[0m\u001b[0;34m\u001b[0m\u001b[0;34m\u001b[0m\u001b[0m\n\u001b[0;32m----> 7\u001b[0;31m \u001b[0mPEHRACTT2\u001b[0m\u001b[0;34m\u001b[0m\u001b[0;34m\u001b[0m\u001b[0m\n\u001b[0m",
      "\u001b[0;31mNameError\u001b[0m: name 'PEHRACTT2' is not defined"
     ]
    }
   ],
   "source": [
    "# Descriptive statistics for Total Hours Worked Last Week (Employed)\n",
    "#PEHRACTT2 = df_CPS.groupby(['PEMLR_1']).agg({'PEHRACTT': 'mean'})\n",
    "#PEHRACTT2 = df_CPS.groupby(['PEMLR_1']).agg({'PEHRACTT': 'std'})\n",
    "#PEHRACTT2 = df_CPS.groupby(['PEMLR_1']).agg({'PEHRACTT': 'min'})\n",
    "#PEHRACTT2 = df_CPS.groupby(['PEMLR_1']).agg({'PEHRACTT': 'max'})\n",
    "#PEHRACTT2 = df_CPS.groupby(['PEMLR_1']).quantile(q=0.5)\n",
    "PEHRACTT2"
   ]
  },
  {
   "cell_type": "code",
   "execution_count": 67,
   "metadata": {},
   "outputs": [
    {
     "data": {
      "text/html": "<div>\n<style scoped>\n    .dataframe tbody tr th:only-of-type {\n        vertical-align: middle;\n    }\n\n    .dataframe tbody tr th {\n        vertical-align: top;\n    }\n\n    .dataframe thead th {\n        text-align: right;\n    }\n</style>\n<table border=\"1\" class=\"dataframe\">\n  <thead>\n    <tr style=\"text-align: right;\">\n      <th></th>\n      <th>PEHRACTT</th>\n    </tr>\n  </thead>\n  <tbody>\n    <tr>\n      <th>count</th>\n      <td>3434427.00</td>\n    </tr>\n    <tr>\n      <th>mean</th>\n      <td>23.28</td>\n    </tr>\n    <tr>\n      <th>std</th>\n      <td>21.74</td>\n    </tr>\n    <tr>\n      <th>min</th>\n      <td>0.00</td>\n    </tr>\n    <tr>\n      <th>25%</th>\n      <td>0.00</td>\n    </tr>\n    <tr>\n      <th>50%</th>\n      <td>30.00</td>\n    </tr>\n    <tr>\n      <th>75%</th>\n      <td>40.00</td>\n    </tr>\n    <tr>\n      <th>max</th>\n      <td>198.00</td>\n    </tr>\n  </tbody>\n</table>\n</div>",
      "text/plain": "         PEHRACTT\ncount  3434427.00\nmean        23.28\nstd         21.74\nmin          0.00\n25%          0.00\n50%         30.00\n75%         40.00\nmax        198.00"
     },
     "execution_count": 67,
     "metadata": {},
     "output_type": "execute_result"
    }
   ],
   "source": [
    "# Descriptive statistics for Total Hours Worked Last Week (Overall)\n",
    "# If hours worked is blank we assume that, that is 0 hours worked worked\n",
    "df_CPS['PEHRACTT'] = df_CPS['PEHRACTT'].replace({-1: 0}) \n",
    "\n",
    "# Descriptive statistics\n",
    "df_CPS_ds = df_CPS[['PEHRACTT']].describe()\n",
    "#df_CPS_ds.round(2)"
   ]
  },
  {
   "cell_type": "markdown",
   "metadata": {},
   "source": [
    "### Descriptive statistics for\n",
    "- Overtime Hours Worked Last Week (Only if the respondent did work overtime)"
   ]
  },
  {
   "cell_type": "code",
   "execution_count": 38,
   "metadata": {},
   "outputs": [
    {
     "data": {
      "text/html": "<div>\n<style scoped>\n    .dataframe tbody tr th:only-of-type {\n        vertical-align: middle;\n    }\n\n    .dataframe tbody tr th {\n        vertical-align: top;\n    }\n\n    .dataframe thead th {\n        text-align: right;\n    }\n</style>\n<table border=\"1\" class=\"dataframe\">\n  <thead>\n    <tr style=\"text-align: right;\">\n      <th></th>\n      <th>HRMONTH</th>\n      <th>HRYEAR4</th>\n      <th>HEFAMINC</th>\n      <th>GESTFIPS</th>\n      <th>PRTAGE</th>\n      <th>PEHRACTT</th>\n      <th>PRDTIND1</th>\n      <th>PUHROT2</th>\n      <th>PEMLR_1</th>\n      <th>PEEDUCA_38</th>\n      <th>PEEDUCA_39</th>\n      <th>PEEDUCA_40</th>\n      <th>PEEDUCA_43</th>\n      <th>PEEDUCA_44</th>\n      <th>PESEX_1</th>\n      <th>GTMETSTA_1</th>\n    </tr>\n    <tr>\n      <th>PUHROT1_1</th>\n      <th></th>\n      <th></th>\n      <th></th>\n      <th></th>\n      <th></th>\n      <th></th>\n      <th></th>\n      <th></th>\n      <th></th>\n      <th></th>\n      <th></th>\n      <th></th>\n      <th></th>\n      <th></th>\n      <th></th>\n      <th></th>\n    </tr>\n  </thead>\n  <tbody>\n    <tr>\n      <th>0</th>\n      <td>6.0</td>\n      <td>2018.0</td>\n      <td>13.0</td>\n      <td>28.0</td>\n      <td>51.0</td>\n      <td>25.0</td>\n      <td>21.0</td>\n      <td>0.0</td>\n      <td>1.0</td>\n      <td>0.0</td>\n      <td>0.0</td>\n      <td>0.0</td>\n      <td>0.0</td>\n      <td>0.0</td>\n      <td>0.0</td>\n      <td>1.0</td>\n    </tr>\n    <tr>\n      <th>1</th>\n      <td>6.0</td>\n      <td>2018.0</td>\n      <td>14.0</td>\n      <td>30.0</td>\n      <td>43.0</td>\n      <td>48.0</td>\n      <td>33.0</td>\n      <td>8.0</td>\n      <td>1.0</td>\n      <td>0.0</td>\n      <td>0.0</td>\n      <td>0.0</td>\n      <td>0.0</td>\n      <td>0.0</td>\n      <td>1.0</td>\n      <td>1.0</td>\n    </tr>\n  </tbody>\n</table>\n</div>",
      "text/plain": "           HRMONTH  HRYEAR4  HEFAMINC  GESTFIPS  PRTAGE  PEHRACTT  PRDTIND1  \\\nPUHROT1_1                                                                     \n0              6.0   2018.0      13.0      28.0    51.0      25.0      21.0   \n1              6.0   2018.0      14.0      30.0    43.0      48.0      33.0   \n\n           PUHROT2  PEMLR_1  PEEDUCA_38  PEEDUCA_39  PEEDUCA_40  PEEDUCA_43  \\\nPUHROT1_1                                                                     \n0              0.0      1.0         0.0         0.0         0.0         0.0   \n1              8.0      1.0         0.0         0.0         0.0         0.0   \n\n           PEEDUCA_44  PESEX_1  GTMETSTA_1  \nPUHROT1_1                                   \n0                 0.0      0.0         1.0  \n1                 0.0      1.0         1.0  "
     },
     "execution_count": 38,
     "metadata": {},
     "output_type": "execute_result"
    }
   ],
   "source": [
    "# Descriptive statistics for Overtime Hours Worked Last Week\n",
    "#PUHROT1_ds = df_CPS.groupby(['PUHROT1_1']).agg({'PUHROT2': 'mean'})\n",
    "#PUHROT1_ds = df_CPS.groupby(['PUHROT1_1']).agg({'PUHROT2': 'std'})\n",
    "#PUHROT1_ds = df_CPS.groupby(['PUHROT1_1']).agg({'PUHROT2': 'min'})\n",
    "#PUHROT1_ds = df_CPS.groupby(['PUHROT1_1']).agg({'PUHROT2': 'max'})\n",
    "PUHROT1_ds = df_CPS.groupby(['PUHROT1_1']).quantile(q=0.5)\n",
    "PUHROT1_ds"
   ]
  },
  {
   "cell_type": "markdown",
   "metadata": {},
   "source": [
    "# Graphs of main variables"
   ]
  },
  {
   "cell_type": "code",
   "execution_count": 455,
   "metadata": {},
   "outputs": [
    {
     "data": {
      "image/png": "[encoded data removed]",
      "text/plain": "<Figure size 432x288 with 1 Axes>"
     },
     "metadata": {
      "needs_background": "light",
      "transient": {}
     },
     "output_type": "display_data"
    }
   ],
   "source": [
    "# Employed\n",
    "df_E = pd.DataFrame(df_CPS.groupby(['HRYEAR4','HRMONTH']).mean()['PEMLR_1'])\n",
    "df_E = df_E.reset_index()\n",
    "\n",
    "df_E['DATE'] = df_E['HRYEAR4'].astype(str) + 'M' + df_E['HRMONTH'].astype(str)\n",
    "df_E.drop('HRYEAR4', axis=1, inplace=True)\n",
    "df_E.drop('HRMONTH', axis=1, inplace=True)\n",
    "\n",
    "# Create ticks and labels\n",
    "ticks = [0, 11, 23, 35]\n",
    "labels = ['2017m1', '2018m1', '2019m1', '2020m1']\n",
    "\n",
    "# The plot, setting color and width of the line\n",
    "fig, ax1 = plt.subplots()\n",
    "df_E.plot(color='darkred', linewidth=0.7, legend=None, ax=ax1)\n",
    "\n",
    "# Pass to xticks\n",
    "plt.xticks(ticks, labels);\n",
    "\n",
    "# Remove gridlines and \n",
    "plt.grid(False)\n",
    "\n",
    "# Setting x label\n",
    "ax1.set_ylabel(\"Employment Rate\")\n",
    "\n",
    "# Removing white space before graph starts\n",
    "plt.margins(x=0)\n",
    "\n",
    "# Decimals at the y axis\n",
    "#ax1.yaxis.set_major_formatter(FormatStrFormatter('%.2f'))\n",
    "\n",
    "plt.savefig(\"Empl.jpg\", dpi=1200)"
   ]
  },
  {
   "cell_type": "code",
   "execution_count": 198,
   "metadata": {},
   "outputs": [
    {
     "data": {
      "image/png": "[encoded data removed]",
      "text/plain": "<Figure size 432x288 with 1 Axes>"
     },
     "metadata": {
      "needs_background": "light",
      "transient": {}
     },
     "output_type": "display_data"
    }
   ],
   "source": [
    "df_CPS_G = df_CPS.loc[df_CPS['PEMLR_1'] > 0]\n",
    "\n",
    "# Overtime Workers\n",
    "df_O = pd.DataFrame(df_CPS_G.groupby(['HRYEAR4','HRMONTH']).mean()['PUHROT1_1'])\n",
    "df_O = df_O.reset_index()\n",
    "\n",
    "df_O['DATE'] = df_O['HRYEAR4'].astype(str) + 'M' + df_O['HRMONTH'].astype(str)\n",
    "df_O.drop('HRYEAR4', axis=1, inplace=True)\n",
    "df_O.drop('HRMONTH', axis=1, inplace=True)\n",
    "\n",
    "# Create ticks and labels\n",
    "ticks = [0, 11, 23, 35]\n",
    "labels = ['2017m1', '2018m1', '2019m1', '2020m1']\n",
    "\n",
    "# The plot, setting color and width of the line\n",
    "fig, ax1 = plt.subplots()\n",
    "df_O.plot(color='orange', linewidth=0.7, legend=None, ax=ax1)\n",
    "\n",
    "# Pass to xticks\n",
    "plt.xticks(ticks, labels);\n",
    "\n",
    "# Remove gridlines and \n",
    "plt.grid(False)\n",
    "\n",
    "# Setting x label\n",
    "ax1.set_ylabel(\"Overtime Workers Rate\")\n",
    "\n",
    "# Removing white space before graph starts\n",
    "plt.margins(x=0)\n",
    "\n",
    "# Decimals at the y axis\n",
    "#ax1.yaxis.set_major_formatter(FormatStrFormatter('%.2f'))\n",
    "\n",
    "plt.savefig(\"Overtime_Workers.jpg\", dpi=1200)"
   ]
  },
  {
   "cell_type": "code",
   "execution_count": 207,
   "metadata": {},
   "outputs": [
    {
     "data": {
      "text/html": "<div>\n<style scoped>\n    .dataframe tbody tr th:only-of-type {\n        vertical-align: middle;\n    }\n\n    .dataframe tbody tr th {\n        vertical-align: top;\n    }\n\n    .dataframe thead th {\n        text-align: right;\n    }\n</style>\n<table border=\"1\" class=\"dataframe\">\n  <thead>\n    <tr style=\"text-align: right;\">\n      <th></th>\n      <th>PUHROT1_1</th>\n      <th>DATE</th>\n    </tr>\n  </thead>\n  <tbody>\n    <tr>\n      <th>0</th>\n      <td>0.067949</td>\n      <td>2017M1</td>\n    </tr>\n    <tr>\n      <th>1</th>\n      <td>0.072362</td>\n      <td>2017M2</td>\n    </tr>\n    <tr>\n      <th>2</th>\n      <td>0.073400</td>\n      <td>2017M3</td>\n    </tr>\n    <tr>\n      <th>3</th>\n      <td>0.066112</td>\n      <td>2017M4</td>\n    </tr>\n    <tr>\n      <th>4</th>\n      <td>0.071638</td>\n      <td>2017M5</td>\n    </tr>\n    <tr>\n      <th>5</th>\n      <td>0.069291</td>\n      <td>2017M6</td>\n    </tr>\n    <tr>\n      <th>6</th>\n      <td>0.073650</td>\n      <td>2017M7</td>\n    </tr>\n    <tr>\n      <th>7</th>\n      <td>0.073050</td>\n      <td>2017M8</td>\n    </tr>\n    <tr>\n      <th>8</th>\n      <td>0.077997</td>\n      <td>2017M9</td>\n    </tr>\n    <tr>\n      <th>9</th>\n      <td>0.075479</td>\n      <td>2017M10</td>\n    </tr>\n    <tr>\n      <th>10</th>\n      <td>0.075390</td>\n      <td>2017M11</td>\n    </tr>\n    <tr>\n      <th>11</th>\n      <td>0.080112</td>\n      <td>2017M12</td>\n    </tr>\n    <tr>\n      <th>12</th>\n      <td>0.068253</td>\n      <td>2018M1</td>\n    </tr>\n    <tr>\n      <th>13</th>\n      <td>0.071838</td>\n      <td>2018M2</td>\n    </tr>\n    <tr>\n      <th>14</th>\n      <td>0.074789</td>\n      <td>2018M3</td>\n    </tr>\n    <tr>\n      <th>15</th>\n      <td>0.071294</td>\n      <td>2018M5</td>\n    </tr>\n    <tr>\n      <th>16</th>\n      <td>0.073114</td>\n      <td>2018M6</td>\n    </tr>\n    <tr>\n      <th>17</th>\n      <td>0.073974</td>\n      <td>2018M7</td>\n    </tr>\n    <tr>\n      <th>18</th>\n      <td>0.081417</td>\n      <td>2018M8</td>\n    </tr>\n    <tr>\n      <th>19</th>\n      <td>0.078149</td>\n      <td>2018M9</td>\n    </tr>\n    <tr>\n      <th>20</th>\n      <td>0.075415</td>\n      <td>2018M10</td>\n    </tr>\n    <tr>\n      <th>21</th>\n      <td>0.078480</td>\n      <td>2018M11</td>\n    </tr>\n    <tr>\n      <th>22</th>\n      <td>0.076887</td>\n      <td>2018M12</td>\n    </tr>\n    <tr>\n      <th>23</th>\n      <td>0.069308</td>\n      <td>2019M1</td>\n    </tr>\n    <tr>\n      <th>24</th>\n      <td>0.070601</td>\n      <td>2019M2</td>\n    </tr>\n    <tr>\n      <th>25</th>\n      <td>0.071518</td>\n      <td>2019M3</td>\n    </tr>\n    <tr>\n      <th>26</th>\n      <td>0.070438</td>\n      <td>2019M4</td>\n    </tr>\n    <tr>\n      <th>27</th>\n      <td>0.069404</td>\n      <td>2019M5</td>\n    </tr>\n    <tr>\n      <th>28</th>\n      <td>0.070892</td>\n      <td>2019M6</td>\n    </tr>\n    <tr>\n      <th>29</th>\n      <td>0.072399</td>\n      <td>2019M7</td>\n    </tr>\n    <tr>\n      <th>30</th>\n      <td>0.075859</td>\n      <td>2019M8</td>\n    </tr>\n    <tr>\n      <th>31</th>\n      <td>0.075237</td>\n      <td>2019M9</td>\n    </tr>\n    <tr>\n      <th>32</th>\n      <td>0.074203</td>\n      <td>2019M10</td>\n    </tr>\n    <tr>\n      <th>33</th>\n      <td>0.075525</td>\n      <td>2019M11</td>\n    </tr>\n    <tr>\n      <th>34</th>\n      <td>0.078450</td>\n      <td>2019M12</td>\n    </tr>\n    <tr>\n      <th>35</th>\n      <td>0.068740</td>\n      <td>2020M1</td>\n    </tr>\n    <tr>\n      <th>36</th>\n      <td>0.070329</td>\n      <td>2020M2</td>\n    </tr>\n    <tr>\n      <th>37</th>\n      <td>0.071185</td>\n      <td>2020M3</td>\n    </tr>\n    <tr>\n      <th>38</th>\n      <td>0.063852</td>\n      <td>2020M4</td>\n    </tr>\n  </tbody>\n</table>\n</div>",
      "text/plain": "    PUHROT1_1     DATE\n0    0.067949   2017M1\n1    0.072362   2017M2\n2    0.073400   2017M3\n3    0.066112   2017M4\n4    0.071638   2017M5\n5    0.069291   2017M6\n6    0.073650   2017M7\n7    0.073050   2017M8\n8    0.077997   2017M9\n9    0.075479  2017M10\n10   0.075390  2017M11\n11   0.080112  2017M12\n12   0.068253   2018M1\n13   0.071838   2018M2\n14   0.074789   2018M3\n15   0.071294   2018M5\n16   0.073114   2018M6\n17   0.073974   2018M7\n18   0.081417   2018M8\n19   0.078149   2018M9\n20   0.075415  2018M10\n21   0.078480  2018M11\n22   0.076887  2018M12\n23   0.069308   2019M1\n24   0.070601   2019M2\n25   0.071518   2019M3\n26   0.070438   2019M4\n27   0.069404   2019M5\n28   0.070892   2019M6\n29   0.072399   2019M7\n30   0.075859   2019M8\n31   0.075237   2019M9\n32   0.074203  2019M10\n33   0.075525  2019M11\n34   0.078450  2019M12\n35   0.068740   2020M1\n36   0.070329   2020M2\n37   0.071185   2020M3\n38   0.063852   2020M4"
     },
     "execution_count": 207,
     "metadata": {},
     "output_type": "execute_result"
    }
   ],
   "source": [
    "df_O"
   ]
  },
  {
   "cell_type": "code",
   "execution_count": 74,
   "metadata": {},
   "outputs": [],
   "source": [
    "df_E = pd.DataFrame(df_CPS.groupby(['HRYEAR4','HRMONTH']).mean()['PEMLR_1'])"
   ]
  },
  {
   "cell_type": "code",
   "execution_count": 34,
   "metadata": {},
   "outputs": [
    {
     "data": {
      "image/png": "[encoded data removed]",
      "text/plain": "<Figure size 432x288 with 1 Axes>"
     },
     "metadata": {
      "needs_background": "light",
      "transient": {}
     },
     "output_type": "display_data"
    }
   ],
   "source": [
    "# Family Income\n",
    "df_I = pd.DataFrame(df_CPS.groupby(['HRYEAR4','HRMONTH']).mean()['HEFAMINC'])\n",
    "df_I = df_I.reset_index()\n",
    "\n",
    "df_I['DATE'] = df_I['HRYEAR4'].astype(str) + 'M' + df_I['HRMONTH'].astype(str)\n",
    "df_I.drop('HRYEAR4', axis=1, inplace=True)\n",
    "df_I.drop('HRMONTH', axis=1, inplace=True)\n",
    "\n",
    "# Create ticks and labels\n",
    "ticks = [0, 11, 23, 35]\n",
    "labels = ['2017m1', '2018m1', '2019m1', '2020m1']\n",
    "\n",
    "# The plot, setting color and width of the line\n",
    "fig, ax2 = plt.subplots()\n",
    "df_I.plot(color='tomato', linewidth=0.7, legend=None, ax=ax2)\n",
    "\n",
    "# Pass to xticks\n",
    "plt.xticks(ticks, labels);\n",
    "\n",
    "# Remove gridlines\n",
    "plt.grid(False)\n",
    "\n",
    "# Setting x label\n",
    "ax2.set_ylabel(\"Family Income\")\n",
    "\n",
    "# Removing white space before graph starts\n",
    "plt.margins(x=0)\n",
    "\n",
    "plt.savefig(\"Family_Inc.jpg\", dpi=1200)"
   ]
  },
  {
   "cell_type": "code",
   "execution_count": 101,
   "metadata": {},
   "outputs": [],
   "source": [
    "df_I = pd.DataFrame(df_CPS.groupby(['HRYEAR4','HRMONTH']).mean()['HEFAMINC'])"
   ]
  },
  {
   "cell_type": "code",
   "execution_count": 69,
   "metadata": {},
   "outputs": [
    {
     "data": {
      "image/png": "[encoded data removed]",
      "text/plain": "<Figure size 432x288 with 1 Axes>"
     },
     "metadata": {
      "needs_background": "light",
      "transient": {}
     },
     "output_type": "display_data"
    }
   ],
   "source": [
    "# Total Hours Worked Last Week (Employed)\n",
    "\n",
    "# Only keeping PEMLR_1 = 1\n",
    "df_CPS_G = df_CPS.loc[df_CPS['PEMLR_1'] > 0]\n",
    "\n",
    "df_TE = pd.DataFrame(df_CPS_G.groupby(['HRYEAR4','HRMONTH']).mean()['PEHRACTT'])\n",
    "df_TE = df_TE.reset_index()\n",
    "\n",
    "df_TE['DATE'] = df_TE['HRYEAR4'].astype(str) + 'M' + df_TE['HRMONTH'].astype(str)\n",
    "df_TE.drop('HRYEAR4', axis=1, inplace=True)\n",
    "df_TE.drop('HRMONTH', axis=1, inplace=True)\n",
    "\n",
    "# Create ticks and labels\n",
    "ticks = [0, 11, 23, 35]\n",
    "labels = ['2017m1', '2018m1', '2019m1', '2020m1']\n",
    "\n",
    "# The plot, setting color and width of the line\n",
    "fig, ax3 = plt.subplots()\n",
    "df_TE.plot(color='green', linewidth=0.7, legend=None, ax=ax3)\n",
    "\n",
    "# Pass to xticks\n",
    "plt.xticks(ticks, labels);\n",
    "\n",
    "# Remove gridlines\n",
    "plt.grid(False)\n",
    "\n",
    "# Setting x label\n",
    "ax3.set_ylabel(\"Total Hours Worked Last Week\")\n",
    "\n",
    "# Removing white space before graph starts\n",
    "plt.margins(x=0)\n",
    "\n",
    "plt.savefig(\"Hrs_Last_Week_Empl.jpg\", dpi=1200)\n"
   ]
  },
  {
   "cell_type": "code",
   "execution_count": 75,
   "metadata": {},
   "outputs": [],
   "source": [
    "df_TE = pd.DataFrame(df_CPS_G.groupby(['HRYEAR4','HRMONTH']).mean()['PEHRACTT'])"
   ]
  },
  {
   "cell_type": "code",
   "execution_count": 79,
   "metadata": {},
   "outputs": [
    {
     "data": {
      "image/png": "[encoded data removed]",
      "text/plain": "<Figure size 432x288 with 1 Axes>"
     },
     "metadata": {
      "needs_background": "light",
      "transient": {}
     },
     "output_type": "display_data"
    }
   ],
   "source": [
    "# Total hours worked (Overall)\n",
    "df_CPS['PEHRACTT'] = df_CPS['PEHRACTT'].replace({-1: 0}) \n",
    "\n",
    "df_TO = pd.DataFrame(df_CPS.groupby(['HRYEAR4','HRMONTH']).mean()['PEHRACTT'])\n",
    "df_TO = df_TO.reset_index()\n",
    "\n",
    "df_TO['DATE'] = df_TO['HRYEAR4'].astype(str) + 'M' + df_TO['HRMONTH'].astype(str)\n",
    "df_TO.drop('HRYEAR4', axis=1, inplace=True)\n",
    "df_TO.drop('HRMONTH', axis=1, inplace=True)\n",
    "\n",
    "# Create ticks and labels\n",
    "ticks = [0, 11, 23, 35]\n",
    "labels = ['2017m1', '2018m1', '2019m1', '2020m1']\n",
    "\n",
    "# The plot, setting color and width of the line\n",
    "fig, ax4 = plt.subplots()\n",
    "df_TO.plot(color='blue', linewidth=0.7, legend=None, ax=ax4)\n",
    "\n",
    "# Pass to xticks\n",
    "plt.xticks(ticks, labels);\n",
    "\n",
    "# Remove gridlines\n",
    "plt.grid(False)\n",
    "\n",
    "# Setting x label\n",
    "ax4.set_ylabel(\"Total Hours Worked Last Week\")\n",
    "\n",
    "# Removing white space before graph starts\n",
    "plt.margins(x=0)\n",
    "\n",
    "plt.savefig(\"Hrs_Last_Week_Overall.jpg\", dpi=1200)\n"
   ]
  },
  {
   "cell_type": "code",
   "execution_count": 76,
   "metadata": {},
   "outputs": [],
   "source": [
    "df_TO = pd.DataFrame(df_CPS.groupby(['HRYEAR4','HRMONTH']).mean()['PEHRACTT'])"
   ]
  },
  {
   "cell_type": "markdown",
   "metadata": {},
   "source": [
    "### Graphs for Overtime work"
   ]
  },
  {
   "cell_type": "code",
   "execution_count": 89,
   "metadata": {},
   "outputs": [
    {
     "data": {
      "image/png": "[encoded data removed]",
      "text/plain": "<Figure size 432x288 with 1 Axes>"
     },
     "metadata": {
      "needs_background": "light",
      "transient": {}
     },
     "output_type": "display_data"
    }
   ],
   "source": [
    "# Overtime or Extra Work\n",
    "df_O = pd.DataFrame(df_CPS.groupby(['HRYEAR4','HRMONTH']).mean()['PUHROT1_1'])\n",
    "df_O = df_O.reset_index()\n",
    "\n",
    "df_O['DATE'] = df_O['HRYEAR4'].astype(str) + 'M' + df_O['HRMONTH'].astype(str)\n",
    "df_O.drop('HRYEAR4', axis=1, inplace=True)\n",
    "df_O.drop('HRMONTH', axis=1, inplace=True)\n",
    "\n",
    "# Create ticks and labels\n",
    "ticks = [0, 11, 23, 35]\n",
    "labels = ['2017m1', '2018m1', '2019m1', '2020m1']\n",
    "\n",
    "# The plot, setting color and width of the line\n",
    "fig, ax5 = plt.subplots()\n",
    "df_O.plot(color='purple', linewidth=0.7, legend=None, ax=ax5)\n",
    "\n",
    "# Pass to xticks\n",
    "plt.xticks(ticks, labels);\n",
    "\n",
    "# Remove gridlines and \n",
    "plt.grid(False)\n",
    "\n",
    "# Setting x label\n",
    "ax5.set_ylabel(\"Ovt or Ext Wrk\")\n",
    "\n",
    "# Removing white space before graph starts\n",
    "plt.margins(x=0)\n",
    "\n",
    "plt.savefig(\"Ovt_or_Ext_Wrk.jpg\", dpi=1200)"
   ]
  },
  {
   "cell_type": "code",
   "execution_count": 88,
   "metadata": {},
   "outputs": [],
   "source": [
    "df_O = pd.DataFrame(df_CPS.groupby(['HRYEAR4','HRMONTH']).mean()['PUHROT1_1'])"
   ]
  },
  {
   "cell_type": "code",
   "execution_count": 97,
   "metadata": {},
   "outputs": [
    {
     "data": {
      "image/png": "[encoded data removed]",
      "text/plain": "<Figure size 432x288 with 1 Axes>"
     },
     "metadata": {
      "needs_background": "light",
      "transient": {}
     },
     "output_type": "display_data"
    }
   ],
   "source": [
    "# Additional Hours Worked Last Week\n",
    "\n",
    "# Only keeping PUHROT1_1 = 1\n",
    "df_CPS_K = df_CPS.loc[df_CPS['PUHROT1_1'] > 0]\n",
    "\n",
    "df_OO = pd.DataFrame(df_CPS_K.groupby(['HRYEAR4','HRMONTH']).mean()['PUHROT2'])\n",
    "df_OO = df_OO.reset_index()\n",
    "\n",
    "df_OO['DATE'] = df_OO['HRYEAR4'].astype(str) + 'M' + df_OO['HRMONTH'].astype(str)\n",
    "df_OO.drop('HRYEAR4', axis=1, inplace=True)\n",
    "df_OO.drop('HRMONTH', axis=1, inplace=True)\n",
    "\n",
    "# Create ticks and labels\n",
    "ticks = [0, 11, 23, 35]\n",
    "labels = ['2017m1', '2018m1', '2019m1', '2020m1']\n",
    "\n",
    "# The plot, setting color and width of the line\n",
    "fig, ax6 = plt.subplots()\n",
    "df_OO.plot(color='purple', linewidth=0.7, legend=None, ax=ax6)\n",
    "\n",
    "# Pass to xticks\n",
    "plt.xticks(ticks, labels);\n",
    "\n",
    "# Remove gridlines\n",
    "plt.grid(False)\n",
    "\n",
    "# Setting x label\n",
    "ax6.set_ylabel(\"Add Hrs Last Week\")\n",
    "\n",
    "# Removing white space before graph starts\n",
    "plt.margins(x=0)\n",
    "\n",
    "plt.savefig(\"Add_Hrs_Last_Week.jpg\", dpi=1200)"
   ]
  },
  {
   "cell_type": "code",
   "execution_count": 100,
   "metadata": {},
   "outputs": [],
   "source": [
    "df_OO = pd.DataFrame(df_CPS_K.groupby(['HRYEAR4','HRMONTH']).mean()['PUHROT2'])"
   ]
  },
  {
   "cell_type": "markdown",
   "metadata": {},
   "source": [
    "# Loading social distancing policies data"
   ]
  },
  {
   "cell_type": "code",
   "execution_count": 53,
   "metadata": {},
   "outputs": [
    {
     "data": {
      "text/html": "<div>\n<style scoped>\n    .dataframe tbody tr th:only-of-type {\n        vertical-align: middle;\n    }\n\n    .dataframe tbody tr th {\n        vertical-align: top;\n    }\n\n    .dataframe thead th {\n        text-align: right;\n    }\n</style>\n<table border=\"1\" class=\"dataframe\">\n  <thead>\n    <tr style=\"text-align: right;\">\n      <th></th>\n      <th>index</th>\n      <th>State</th>\n      <th>ABCs</th>\n      <th>SAHs</th>\n    </tr>\n  </thead>\n  <tbody>\n    <tr>\n      <th>0</th>\n      <td>0</td>\n      <td>AK</td>\n      <td>19 days</td>\n      <td>21 days</td>\n    </tr>\n    <tr>\n      <th>1</th>\n      <td>1</td>\n      <td>AL</td>\n      <td>23 days</td>\n      <td>19 days</td>\n    </tr>\n    <tr>\n      <th>2</th>\n      <td>4</td>\n      <td>CA</td>\n      <td>32 days</td>\n      <td>24 days</td>\n    </tr>\n    <tr>\n      <th>3</th>\n      <td>5</td>\n      <td>CO</td>\n      <td>24 days</td>\n      <td>17 days</td>\n    </tr>\n    <tr>\n      <th>4</th>\n      <td>7</td>\n      <td>DC</td>\n      <td>30 days</td>\n      <td>11 days</td>\n    </tr>\n    <tr>\n      <th>5</th>\n      <td>8</td>\n      <td>DE</td>\n      <td>27 days</td>\n      <td>19 days</td>\n    </tr>\n    <tr>\n      <th>6</th>\n      <td>9</td>\n      <td>FL</td>\n      <td>9 days</td>\n      <td>9 days</td>\n    </tr>\n    <tr>\n      <th>7</th>\n      <td>10</td>\n      <td>GA</td>\n      <td>19 days</td>\n      <td>19 days</td>\n    </tr>\n    <tr>\n      <th>8</th>\n      <td>11</td>\n      <td>HI</td>\n      <td>27 days</td>\n      <td>18 days</td>\n    </tr>\n    <tr>\n      <th>9</th>\n      <td>13</td>\n      <td>ID</td>\n      <td>18 days</td>\n      <td>24 days</td>\n    </tr>\n    <tr>\n      <th>10</th>\n      <td>14</td>\n      <td>IL</td>\n      <td>30 days</td>\n      <td>22 days</td>\n    </tr>\n    <tr>\n      <th>11</th>\n      <td>15</td>\n      <td>IN</td>\n      <td>31 days</td>\n      <td>18 days</td>\n    </tr>\n    <tr>\n      <th>12</th>\n      <td>16</td>\n      <td>KS</td>\n      <td>26 days</td>\n      <td>13 days</td>\n    </tr>\n    <tr>\n      <th>13</th>\n      <td>18</td>\n      <td>LA</td>\n      <td>30 days</td>\n      <td>20 days</td>\n    </tr>\n    <tr>\n      <th>14</th>\n      <td>20</td>\n      <td>MD</td>\n      <td>27 days</td>\n      <td>13 days</td>\n    </tr>\n    <tr>\n      <th>15</th>\n      <td>21</td>\n      <td>ME</td>\n      <td>25 days</td>\n      <td>18 days</td>\n    </tr>\n    <tr>\n      <th>16</th>\n      <td>22</td>\n      <td>MI</td>\n      <td>30 days</td>\n      <td>19 days</td>\n    </tr>\n    <tr>\n      <th>17</th>\n      <td>24</td>\n      <td>MO</td>\n      <td>20 days</td>\n      <td>6 days</td>\n    </tr>\n    <tr>\n      <th>18</th>\n      <td>25</td>\n      <td>MS</td>\n      <td>19 days</td>\n      <td>12 days</td>\n    </tr>\n    <tr>\n      <th>19</th>\n      <td>26</td>\n      <td>MT</td>\n      <td>19 days</td>\n      <td>15 days</td>\n    </tr>\n    <tr>\n      <th>20</th>\n      <td>27</td>\n      <td>NC</td>\n      <td>29 days</td>\n      <td>13 days</td>\n    </tr>\n    <tr>\n      <th>21</th>\n      <td>30</td>\n      <td>NH</td>\n      <td>27 days</td>\n      <td>15 days</td>\n    </tr>\n    <tr>\n      <th>22</th>\n      <td>31</td>\n      <td>NJ</td>\n      <td>27 days</td>\n      <td>22 days</td>\n    </tr>\n    <tr>\n      <th>23</th>\n      <td>33</td>\n      <td>NV</td>\n      <td>24 days</td>\n      <td>12 days</td>\n    </tr>\n    <tr>\n      <th>24</th>\n      <td>34</td>\n      <td>NY</td>\n      <td>30 days</td>\n      <td>21 days</td>\n    </tr>\n    <tr>\n      <th>25</th>\n      <td>35</td>\n      <td>OH</td>\n      <td>31 days</td>\n      <td>19 days</td>\n    </tr>\n    <tr>\n      <th>26</th>\n      <td>36</td>\n      <td>OK</td>\n      <td>19 days</td>\n      <td>19 days</td>\n    </tr>\n    <tr>\n      <th>27</th>\n      <td>37</td>\n      <td>OR</td>\n      <td>27 days</td>\n      <td>20 days</td>\n    </tr>\n    <tr>\n      <th>28</th>\n      <td>38</td>\n      <td>PA</td>\n      <td>27 days</td>\n      <td>20 days</td>\n    </tr>\n    <tr>\n      <th>29</th>\n      <td>39</td>\n      <td>RI</td>\n      <td>26 days</td>\n      <td>15 days</td>\n    </tr>\n    <tr>\n      <th>30</th>\n      <td>40</td>\n      <td>SC</td>\n      <td>25 days</td>\n      <td>17 days</td>\n    </tr>\n    <tr>\n      <th>31</th>\n      <td>42</td>\n      <td>TN</td>\n      <td>20 days</td>\n      <td>10 days</td>\n    </tr>\n    <tr>\n      <th>32</th>\n      <td>43</td>\n      <td>TX</td>\n      <td>23 days</td>\n      <td>10 days</td>\n    </tr>\n    <tr>\n      <th>33</th>\n      <td>44</td>\n      <td>UT</td>\n      <td>27 days</td>\n      <td>16 days</td>\n    </tr>\n    <tr>\n      <th>34</th>\n      <td>45</td>\n      <td>VA</td>\n      <td>28 days</td>\n      <td>13 days</td>\n    </tr>\n    <tr>\n      <th>35</th>\n      <td>46</td>\n      <td>VT</td>\n      <td>30 days</td>\n      <td>19 days</td>\n    </tr>\n    <tr>\n      <th>36</th>\n      <td>47</td>\n      <td>WA</td>\n      <td>32 days</td>\n      <td>20 days</td>\n    </tr>\n    <tr>\n      <th>37</th>\n      <td>48</td>\n      <td>WI</td>\n      <td>26 days</td>\n      <td>18 days</td>\n    </tr>\n  </tbody>\n</table>\n</div>",
      "text/plain": "    index State    ABCs    SAHs\n0       0    AK 19 days 21 days\n1       1    AL 23 days 19 days\n2       4    CA 32 days 24 days\n3       5    CO 24 days 17 days\n4       7    DC 30 days 11 days\n5       8    DE 27 days 19 days\n6       9    FL  9 days  9 days\n7      10    GA 19 days 19 days\n8      11    HI 27 days 18 days\n9      13    ID 18 days 24 days\n10     14    IL 30 days 22 days\n11     15    IN 31 days 18 days\n12     16    KS 26 days 13 days\n13     18    LA 30 days 20 days\n14     20    MD 27 days 13 days\n15     21    ME 25 days 18 days\n16     22    MI 30 days 19 days\n17     24    MO 20 days  6 days\n18     25    MS 19 days 12 days\n19     26    MT 19 days 15 days\n20     27    NC 29 days 13 days\n21     30    NH 27 days 15 days\n22     31    NJ 27 days 22 days\n23     33    NV 24 days 12 days\n24     34    NY 30 days 21 days\n25     35    OH 31 days 19 days\n26     36    OK 19 days 19 days\n27     37    OR 27 days 20 days\n28     38    PA 27 days 20 days\n29     39    RI 26 days 15 days\n30     40    SC 25 days 17 days\n31     42    TN 20 days 10 days\n32     43    TX 23 days 10 days\n33     44    UT 27 days 16 days\n34     45    VA 28 days 13 days\n35     46    VT 30 days 19 days\n36     47    WA 32 days 20 days\n37     48    WI 26 days 18 days"
     },
     "execution_count": 53,
     "metadata": {},
     "output_type": "execute_result"
    }
   ],
   "source": [
    "# Loading data as excel file\n",
    "df_socdis = pd.read_excel (r'/Users/AH/Dropbox/Seminar_Empirical_Research_on_the_Covid-19_Economic_Crisis/Social Distancing Policies Python.xlsx')\n",
    "# 51 states\n",
    "\n",
    "# Dropping rows with NaN\n",
    "df_socdis = df_socdis[['State', 'ABC', 'SAH']].dropna() \n",
    "\n",
    "# Finally reseting index and dropping 'level_0' and 'index'\n",
    "df_socdis = df_socdis.reset_index()\n",
    "#del df_socdis['index']\n",
    "\n",
    "# Creating column with focal date: April 12, 2020 \n",
    "df_socdis['FOCALDATE'] = '2020-04-12'\n",
    "\n",
    "# Converting to datetime\n",
    "df_socdis[['ABC','SAH', 'FOCALDATE']] = df_socdis[['ABC','SAH', 'FOCALDATE']].apply(pd.to_datetime)\n",
    "\n",
    "# Creating column with number of fays that the policy have been in place by the April 12, 2020 \n",
    "df_socdis['ABCs'] = df_socdis['FOCALDATE'] - df_socdis['ABC']\n",
    "df_socdis['SAHs'] = df_socdis['FOCALDATE'] - df_socdis['SAH']\n",
    "\n",
    "# Deleting columns i do not need\n",
    "del df_socdis['ABC']\n",
    "del df_socdis['SAH']\n",
    "del df_socdis['FOCALDATE']\n",
    "\n",
    "# Ending up with 38 states \n",
    "df_socdis\n",
    "\n",
    "# Unique values of states\n",
    "#list_un = df_socdis['State'].unique()\n",
    "#list_un\n",
    "\n",
    "# Lenght of list\n",
    "#len(list_un)"
   ]
  },
  {
   "cell_type": "markdown",
   "metadata": {},
   "source": [
    "Deleting 'days' in ABCs and SAHs"
   ]
  },
  {
   "cell_type": "code",
   "execution_count": 112,
   "metadata": {},
   "outputs": [],
   "source": [
    "# Converting to string\n",
    "#df_socdis['ABCs'] = df_socdis['ABCs'].astype(str)\n",
    "#df_socdis['SAHs'] = df_socdis['SAHs'].astype(str)\n",
    "\n",
    "# Deleting 'days' in ABCs and SAHs\n",
    "#df_socdis['ABCs'] = df_socdis['ABCs'].str[:-5]\n",
    "#df_socdis['SAHs'] = df_socdis['SAHs'].str[:-5]\n",
    "\n",
    "#df_socdis"
   ]
  },
  {
   "cell_type": "markdown",
   "metadata": {},
   "source": [
    "### Graphs of social distancing policies"
   ]
  },
  {
   "cell_type": "code",
   "execution_count": 62,
   "metadata": {},
   "outputs": [
    {
     "data": {
      "text/html": "<div>\n<style scoped>\n    .dataframe tbody tr th:only-of-type {\n        vertical-align: middle;\n    }\n\n    .dataframe tbody tr th {\n        vertical-align: top;\n    }\n\n    .dataframe thead th {\n        text-align: right;\n    }\n</style>\n<table border=\"1\" class=\"dataframe\">\n  <thead>\n    <tr style=\"text-align: right;\">\n      <th></th>\n      <th>ABC</th>\n      <th>State</th>\n      <th>State_CUM</th>\n    </tr>\n  </thead>\n  <tbody>\n    <tr>\n      <th>0</th>\n      <td>2020-03-11</td>\n      <td>2</td>\n      <td>2</td>\n    </tr>\n    <tr>\n      <th>1</th>\n      <td>2020-03-12</td>\n      <td>2</td>\n      <td>4</td>\n    </tr>\n    <tr>\n      <th>2</th>\n      <td>2020-03-13</td>\n      <td>6</td>\n      <td>10</td>\n    </tr>\n    <tr>\n      <th>3</th>\n      <td>2020-03-14</td>\n      <td>1</td>\n      <td>11</td>\n    </tr>\n    <tr>\n      <th>4</th>\n      <td>2020-03-15</td>\n      <td>1</td>\n      <td>12</td>\n    </tr>\n    <tr>\n      <th>5</th>\n      <td>2020-03-16</td>\n      <td>8</td>\n      <td>20</td>\n    </tr>\n    <tr>\n      <th>6</th>\n      <td>2020-03-17</td>\n      <td>3</td>\n      <td>23</td>\n    </tr>\n    <tr>\n      <th>7</th>\n      <td>2020-03-18</td>\n      <td>2</td>\n      <td>25</td>\n    </tr>\n    <tr>\n      <th>8</th>\n      <td>2020-03-19</td>\n      <td>2</td>\n      <td>27</td>\n    </tr>\n    <tr>\n      <th>9</th>\n      <td>2020-03-20</td>\n      <td>2</td>\n      <td>29</td>\n    </tr>\n    <tr>\n      <th>10</th>\n      <td>2020-03-23</td>\n      <td>2</td>\n      <td>31</td>\n    </tr>\n    <tr>\n      <th>11</th>\n      <td>2020-03-24</td>\n      <td>5</td>\n      <td>36</td>\n    </tr>\n    <tr>\n      <th>12</th>\n      <td>2020-03-25</td>\n      <td>1</td>\n      <td>37</td>\n    </tr>\n    <tr>\n      <th>13</th>\n      <td>2020-04-03</td>\n      <td>1</td>\n      <td>38</td>\n    </tr>\n  </tbody>\n</table>\n</div>",
      "text/plain": "          ABC  State  State_CUM\n0  2020-03-11      2          2\n1  2020-03-12      2          4\n2  2020-03-13      6         10\n3  2020-03-14      1         11\n4  2020-03-15      1         12\n5  2020-03-16      8         20\n6  2020-03-17      3         23\n7  2020-03-18      2         25\n8  2020-03-19      2         27\n9  2020-03-20      2         29\n10 2020-03-23      2         31\n11 2020-03-24      5         36\n12 2020-03-25      1         37\n13 2020-04-03      1         38"
     },
     "execution_count": 62,
     "metadata": {},
     "output_type": "execute_result"
    }
   ],
   "source": [
    "# Creating dataframe with number of states with Mandatory or recommended SAH\n",
    "df_ABC = pd.DataFrame(df_socdis.groupby(['ABC']).count()['State'])\n",
    "\n",
    "# Reseting index\n",
    "df_ABC = df_ABC.reset_index()\n",
    "\n",
    "#new_row = {'ABC':'2020-03-21', 'State':0}\n",
    "#df_ABC = df_ABC.append(new_row, ignore_index=True)\n",
    "\n",
    "# Creating column with cummulative values\n",
    "df_ABC['State_CUM'] = df_ABC['State'].cumsum()\n",
    "\n",
    "# Dropping state not cummulative and ABC date\n",
    "#df_ABC = df_ABC.drop(['State'], axis=1)\n",
    "#df_ABC = df_ABC.drop(['ABC'], axis=1)\n",
    "\n",
    "df_ABC\n",
    "\n",
    "#df_socdis_SAH = pd.DataFrame(df_socdis.groupby(['SAH']).count()['State'])\n",
    "#df_socdis_SAH"
   ]
  },
  {
   "cell_type": "code",
   "execution_count": 61,
   "metadata": {},
   "outputs": [
    {
     "data": {
      "image/png": "[encoded data removed]",
      "text/plain": "<Figure size 432x288 with 1 Axes>"
     },
     "metadata": {
      "needs_background": "light",
      "transient": {}
     },
     "output_type": "display_data"
    }
   ],
   "source": [
    "# Mandatory or recommended SAH\n",
    "# Create ticks and labels\n",
    "ticks = [0, 3, 6, 9, 12, 13]\n",
    "labels = ['11 Mar 2020', '14 Mar 2020', '15 Mar 2020', '18 Mar 2020', '21 Mar 2020', ' ']\n",
    "\n",
    "# The plot, setting color and width of the line\n",
    "fig, ax1 = plt.subplots()\n",
    "df_ABC.plot(color='black', linewidth=0.7, legend=None, ax=ax1)\n",
    "\n",
    "# Pass to xticks\n",
    "plt.xticks(ticks, labels);\n",
    "\n",
    "# Remove gridlines and \n",
    "plt.grid(False)\n",
    "\n",
    "# Setting x label\n",
    "ax1.set_ylabel(\"States\")\n",
    "\n",
    "# Removing white space before graph starts\n",
    "plt.margins(x=0)\n",
    "\n",
    "# Decimals at the y axis\n",
    "#ax1.yaxis.set_major_formatter(FormatStrFormatter('%.2f'))\n",
    "\n",
    "#plt.savefig(\"ABC.jpg\", dpi=1200)"
   ]
  },
  {
   "cell_type": "markdown",
   "metadata": {},
   "source": [
    "# Making data ready for regression"
   ]
  },
  {
   "cell_type": "markdown",
   "metadata": {},
   "source": [
    "### Changing number of state code values to text code and only keeping specific states"
   ]
  },
  {
   "cell_type": "code",
   "execution_count": 70,
   "metadata": {},
   "outputs": [],
   "source": [
    "# Unique values of states\n",
    "list_u = df_CPS['GESTFIPS'].unique()\n",
    "#print(list_u)\n",
    "\n",
    "# Changing values\n",
    "df_CPS['GESTFIPS'] = df_CPS['GESTFIPS'].map({1: 'AL', 2:'AK', 4:'AZ', 5:'AR', 6:'CA', 8:'CO', 9:'CT', 10:'DE', 11:'DC', 12:'FL', 13:'GA', 15:'HI', 16:'ID', 17:'IL', 18:'IN', 19:'IA', 20:'KS', 21:'KY', 22:'LA', '23':'ME', 24:'MD', 25:'MA', 26:'MI', 27:'MN', 28:'MS', 29:'MO', 30:'MT', 31:'NE', 32:'NV', 33:'NH', 34:'NJ', 35:'NM', 36:'NY', 37:'NC', 38:'ND', 39:'OH', 40:'OK', 41:'OR', 42:'PA', 44: 'RI', 45:'SC', 46:'SD', 47:'TN', 48:'TX', 49:'UT', 50:'VT', 51:'VA', 53:'WA', 54:'WV', 55:'WI', 56:'WY'})\n",
    "\n",
    "# Only keeping rows where state is equal to:\n",
    "some_values = ['AL', 'AK', 'CA', 'CO', 'DC', 'DE', 'FL', 'GA', 'HI', 'ID']\n",
    "#'IL', 'IN', 'KS', 'LA', 'MD', 'ME', 'MI', 'MO', 'MS', 'MT', 'NC', 'NH', 'NJ', 'NV', 'NY', 'OH', 'OK', 'OR', 'PA', 'RI', 'SC', 'TN', 'TX','UT', 'VA', 'VT', 'WA', 'WI']\n",
    "df_CPSr = df_CPS.loc[df_CPS['GESTFIPS'].isin(some_values)]\n",
    "\n",
    "# Renaming GESTFIPS to States\n",
    "df_CPSr = df_CPSr.rename({'GESTFIPS': 'State'}, axis='columns')\n",
    "\n",
    "#df_CPSr"
   ]
  },
  {
   "cell_type": "markdown",
   "metadata": {},
   "source": [
    "### Defining relevant variables for the regressions\n",
    "- Month and year\n",
    "- State\n",
    "- Demograpich variables"
   ]
  },
  {
   "cell_type": "code",
   "execution_count": 489,
   "metadata": {},
   "outputs": [],
   "source": [
    "# List of demograpich variables included in every regression\n",
    "List_of_variables = df_CPSr[['HRMONTH','HRYEAR4', 'State', 'PESEX_1', 'PRTAGE', 'PEEDUCA_38', 'PEEDUCA_39', 'PEEDUCA_40', 'PEEDUCA_43', 'PEEDUCA_44', 'GTMETSTA_1']]"
   ]
  },
  {
   "cell_type": "markdown",
   "metadata": {},
   "source": [
    "### Relevant dataset for \n",
    "- Family Income: HEFAMINC\n",
    "- Employment: PEMLR_1.mean"
   ]
  },
  {
   "cell_type": "code",
   "execution_count": 87,
   "metadata": {},
   "outputs": [],
   "source": [
    "# Shared of employmed workers\n",
    "df_E = pd.DataFrame(df_CPSr.groupby(['State','HRYEAR4','HRMONTH']).mean()['PEMLR_1'])\n",
    "df_E = df_E.reset_index()\n",
    "\n",
    "# Mering with dataframe df_CPSr on State, year and month\n",
    "df_CPSr_E = pd.merge(df_E, df_CPSr, on=['State','HRYEAR4','HRMONTH'])\n",
    "\n",
    "# Choosing variables (HEFAMINC and PEMLR_1_x)\n",
    "df_CPSr_V = df_CPSr_E[['HRMONTH','HRYEAR4', 'State', 'HEFAMINC', 'PEMLR_1_x', 'PESEX_1', 'PRTAGE', 'PEEDUCA_38', 'PEEDUCA_39', 'PEEDUCA_40', 'PEEDUCA_43', 'PEEDUCA_44', 'GTMETSTA_1']]\n",
    "\n",
    "# Merging with social distancing policies, inner mearch on state\n",
    "df_CPSr_V2 = pd.merge(df_socdis, df_CPSr_V, on=['State'])\n",
    "\n",
    "# Creating dummy for being in APRILmt, HRMONTH = 4 and HRYEAR4 = 2020\n",
    "\n",
    "\n",
    "# Only keeping rows for APRILmt = 1 i.e. month 4\n",
    "#df_CPSr_V2_A = df_CPSr_V2.loc[df_CPSr_V2['APRILmt'] == 1]\n",
    "\n",
    "# Saving as excel\n",
    "#df_CPSr_V2.to_excel(r'/Users/AH/Dropbox/Seminar_Empirical_Research_on_the_Covid-19_Economic_Crisis/INCOME_EMPLOYMENT.xlsx', index = False)"
   ]
  },
  {
   "cell_type": "markdown",
   "metadata": {},
   "source": [
    "### Relevant dataset for \n",
    "- Hours Worked Last Week (Overall): PEHRACTT"
   ]
  },
  {
   "cell_type": "code",
   "execution_count": 134,
   "metadata": {},
   "outputs": [],
   "source": [
    "# If hours worked is blank we assume that, that is 0 hours worked worked\n",
    "df_CPSr['PEHRACTT'] = df_CPSr['PEHRACTT'].replace({-1: 0}) \n",
    "\n",
    "# Choosing variables\n",
    "df_CPSr_HO = df_CPSr[['HRMONTH','HRYEAR4', 'State', 'PEHRACTT', 'PESEX_1', 'PRTAGE', 'PEEDUCA_38', 'PEEDUCA_39', 'PEEDUCA_40', 'PEEDUCA_43', 'PEEDUCA_44', 'GTMETSTA_1']]\n",
    "\n",
    "# Merging with social distancing policies, inner mearch on state\n",
    "df_CPSr_HO2 = pd.merge(df_socdis, df_CPSr_HO, on=['State'])\n",
    "\n",
    "# Creating dummy for being in APRILmt, HRMONTH = 4\n",
    "df_CPSr_HO2['APRILmt'] = (df_CPSr_HO2['HRMONTH'] == 4).astype(int)\n",
    "\n",
    "# Only keeping rows for APRILmt = 1 i.e. month 4\n",
    "df_CPSr_HO2 = df_CPSr_HO2.loc[df_CPSr_HO2['APRILmt'] == 1]\n",
    "\n",
    "# Saving as excel\n",
    "df_CPSr_HO2.to_excel(r'/Users/AH/Dropbox/Seminar_Empirical_Research_on_the_Covid-19_Economic_Crisis/HRS_WK_LAST_WEEK_OVERALL.xlsx', index = False)"
   ]
  },
  {
   "cell_type": "markdown",
   "metadata": {},
   "source": [
    "### Relevant dataset for \n",
    "- Hours Worked Last Week (Employed): PEHRACTT"
   ]
  },
  {
   "cell_type": "code",
   "execution_count": 149,
   "metadata": {},
   "outputs": [],
   "source": [
    "# Only keeping rows where PEMLR_1 = 1, that is working\n",
    "df_CPSr1 = df_CPSr.loc[df_CPS['PEMLR_1'] == 1]\n",
    "\n",
    "# Choosing variables\n",
    "df_CPSr_HE = df_CPSr1[['HRMONTH','HRYEAR4', 'State', 'PEHRACTT', 'PESEX_1', 'PRTAGE', 'PEEDUCA_38', 'PEEDUCA_39', 'PEEDUCA_40', 'PEEDUCA_43', 'PEEDUCA_44', 'GTMETSTA_1']]\n",
    "\n",
    "# Merging with social distancing policies, inner mearch on state\n",
    "df_CPSr_HE2 = pd.merge(df_socdis, df_CPSr_HE, on=['State'])\n",
    "\n",
    "# Creating dummy for being in APRILmt, HRMONTH = 4\n",
    "df_CPSr_HE2['APRILmt'] = (df_CPSr_HE2['HRMONTH'] == 4).astype(int)\n",
    "\n",
    "# Only keeping rows for APRILmt = 1 i.e. month 4\n",
    "df_CPSr_HE2 = df_CPSr_HE2.loc[df_CPSr_HE2['APRILmt'] == 1]\n",
    "\n",
    "# Saving as excel\n",
    "df_CPSr_HE2.to_excel(r'/Users/AH/Dropbox/Seminar_Empirical_Research_on_the_Covid-19_Economic_Crisis/HRS_WK_LAST_WEEK_EMPL.xlsx', index = False)\n",
    "\n"
   ]
  },
  {
   "cell_type": "markdown",
   "metadata": {},
   "source": [
    "### Relevant dataset for \n",
    "- Additional Hours Worked Last Week (Only if overtime working): PUHORT2"
   ]
  },
  {
   "cell_type": "code",
   "execution_count": 150,
   "metadata": {},
   "outputs": [],
   "source": [
    "# Only keeping rows where PEMLR_1 = 1, that is working\n",
    "df_CPSrx = df_CPSr.loc[df_CPS['PUHROT1_1'] == 1]\n",
    "\n",
    "# Choosing variables\n",
    "df_CPSr_O = df_CPSrx[['HRMONTH','HRYEAR4', 'State', 'PUHROT2', 'PESEX_1', 'PRTAGE', 'PEEDUCA_38', 'PEEDUCA_39', 'PEEDUCA_40', 'PEEDUCA_43', 'PEEDUCA_44', 'GTMETSTA_1']]\n",
    "\n",
    "# Merging with social distancing policies, inner mearch on state\n",
    "df_CPSr_O2 = pd.merge(df_socdis, df_CPSr_O, on=['State'])\n",
    "\n",
    "# Creating dummy for being in APRILmt, HRMONTH = 4\n",
    "df_CPSr_O2['APRILmt'] = (df_CPSr_O2['HRMONTH'] == 4).astype(int)\n",
    "\n",
    "df_CPSr_O2\n",
    "\n",
    "# Only keeping rows for APRILmt = 1 i.e. month 4\n",
    "df_CPSr_O2 = df_CPSr_O2.loc[df_CPSr_O2['APRILmt'] == 1]\n",
    "\n",
    "# Saving as excel\n",
    "df_CPSr_O2.to_excel(r'/Users/AH/Dropbox/Seminar_Empirical_Research_on_the_Covid-19_Economic_Crisis/HRS_WK_LAST_WEEK_OVERTIME.xlsx', index = False)"
   ]
  },
  {
   "cell_type": "markdown",
   "metadata": {},
   "source": [
    "### Relevant dataset for \n",
    "- Add. Work Last Week (Employed) (PUHROT1_1)"
   ]
  },
  {
   "cell_type": "code",
   "execution_count": 283,
   "metadata": {},
   "outputs": [],
   "source": [
    "# Only keeping rows where PEMLR_1 = 1, that is working\n",
    "df_CPSr3 = df_CPSr.loc[df_CPS['PEMLR_1'] == 1]\n",
    "\n",
    "# Shared of add. workers (overtime workers)\n",
    "df_O = pd.DataFrame(df_CPSr3.groupby(['State','HRYEAR4','HRMONTH']).mean()['PUHROT1_1'])\n",
    "df_O = df_O.reset_index()\n",
    "\n",
    "# Mering with dataframe df_CPSr on State, year and month\n",
    "df_CPSr_O = pd.merge(df_O, df_CPSr, on=['State','HRYEAR4','HRMONTH'])\n",
    "\n",
    "# Choosing variables (PUHROT1_1)\n",
    "df_CPSr_K = df_CPSr_O[['HRMONTH','HRYEAR4', 'State', 'PUHROT1_1_x', 'PESEX_1', 'PRTAGE', 'PEEDUCA_38', 'PEEDUCA_39', 'PEEDUCA_40', 'PEEDUCA_43', 'PEEDUCA_44', 'GTMETSTA_1']]\n",
    "\n",
    "# Merging with social distancing policies, inner mearch on state\n",
    "df_CPSr_K2 = pd.merge(df_socdis, df_CPSr_K, on=['State'])\n",
    "\n",
    "# Creating dummy for being in APRILmt, HRMONTH = 4\n",
    "df_CPSr_K2['APRILmt'] = (df_CPSr_K2['HRMONTH'] == 4).astype(int)\n",
    "\n",
    "# Only keeping rows for APRILmt = 1 i.e. month 4\n",
    "df_CPSr_K2_A = df_CPSr_K2.loc[df_CPSr_K2['APRILmt'] == 1]\n",
    "\n",
    "# Saving as excel\n",
    "df_CPSr_K2_A.to_excel(r'/Users/AH/Dropbox/Seminar_Empirical_Research_on_the_Covid-19_Economic_Crisis/OVERTIMEWORKERS.xlsx', index = False)"
   ]
  }
 ],
 "metadata": {
  "kernelspec": {
   "display_name": "Python 3",
   "language": "python",
   "name": "python3"
  },
  "language_info": {
   "codemirror_mode": {
    "name": "ipython",
    "version": 3
   },
   "file_extension": ".py",
   "mimetype": "text/x-python",
   "name": "python",
   "nbconvert_exporter": "python",
   "pygments_lexer": "ipython3",
   "version": "3.8.5"
  }
 },
 "nbformat": 4,
 "nbformat_minor": 2
}